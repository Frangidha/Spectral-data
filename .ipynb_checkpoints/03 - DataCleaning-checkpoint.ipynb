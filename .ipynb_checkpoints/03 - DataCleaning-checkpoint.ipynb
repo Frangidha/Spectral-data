{
 "cells": [
  {
   "cell_type": "markdown",
   "metadata": {
    "id": "0aStgWSO0E0E"
   },
   "source": [
    "# **Data Cleaning**"
   ]
  },
  {
   "cell_type": "markdown",
   "metadata": {
    "id": "1eLEkw5O0ECa"
   },
   "source": [
    "\r\n",
    "## Objectives\r\n",
    "\r\n",
    "- **Evaluate Missing Data**: Assess and address missing data within the dataset.\r\n",
    "- **Clean Data**: Perform necessary data cleaning operations to enhance data quality.\r\n",
    "\r\n",
    "## Inputs\r\n",
    "\r\n",
    "- Dataset: `outputs/datasets/cleaned/house_price_records.csv`\r\n",
    "\r\n",
    "## Outputs\r\n",
    "\r\n",
    "- **Generate Cleaned Train and Test Sets**: The cleaned datasets for both training and testing will be saved under `outputs/datasets/cleaned`.\r\n",
    "\r\n",
    "## Additional Information\r\n",
    "\r\n",
    "- Data Imputation: Handle missing data in object-type columns.\r\n",
    "- Feature Removal: Identify and remove unnecessary or redundant features to streamline the dataset.\r\n",
    "\r\n",
    "The data cleaning process aims to improve data quality by addressing missing values and optimizing the dataset for further analysis and modeling. 'Time'].]. \n"
   ]
  },
  {
   "cell_type": "markdown",
   "metadata": {
    "id": "9uWZXH9LwoQg"
   },
   "source": [
    "---"
   ]
  },
  {
   "cell_type": "markdown",
   "metadata": {
    "id": "cqP-UeN-z3i2"
   },
   "source": [
    "# Change working directory"
   ]
  },
  {
   "cell_type": "markdown",
   "metadata": {},
   "source": [
    "* We are assuming you will store the notebooks in a subfolder, therefore when running the notebook in the editor, you will need to change the working directory"
   ]
  },
  {
   "cell_type": "markdown",
   "metadata": {
    "id": "aOGIGS-uz3i2"
   },
   "source": [
    "We need to change the working directory from its current folder to its parent folder\n",
    "* We access the current directory with os.getcwd()"
   ]
  },
  {
   "cell_type": "code",
   "execution_count": 1,
   "metadata": {
    "id": "wZfF_j-Bz3i4",
    "outputId": "66943449-1436-4c3d-85c7-b85f9f78349b"
   },
   "outputs": [
    {
     "data": {
      "text/plain": [
       "'/workspaces/Spectral-data'"
      ]
     },
     "execution_count": 1,
     "metadata": {},
     "output_type": "execute_result"
    }
   ],
   "source": [
    "import os\n",
    "current_dir = os.getcwd()\n",
    "current_dir"
   ]
  },
  {
   "cell_type": "markdown",
   "metadata": {
    "id": "9MWW8E7lz3i7"
   },
   "source": [
    "We want to make the parent of the current directory the new current directory\n",
    "* os.path.dirname() gets the parent directory\n",
    "* os.chir() defines the new current directory"
   ]
  },
  {
   "cell_type": "code",
   "execution_count": 2,
   "metadata": {
    "id": "TwHsQRWjz3i9",
    "outputId": "86849db3-cd2f-4cc5-ebb8-2d0caafa1a2c"
   },
   "outputs": [
    {
     "name": "stdout",
     "output_type": "stream",
     "text": [
      "You set a new current directory\n"
     ]
    }
   ],
   "source": [
    "os.chdir(os.path.dirname(current_dir))\n",
    "print(\"You set a new current directory\")"
   ]
  },
  {
   "cell_type": "markdown",
   "metadata": {
    "id": "M_xPk_Ijz3i-"
   },
   "source": [
    "Confirm the new current directory"
   ]
  },
  {
   "cell_type": "code",
   "execution_count": 3,
   "metadata": {
    "id": "vz3S-_kjz3jA",
    "outputId": "00b79ae4-75d0-4a96-d193-ac9ef9847ea2"
   },
   "outputs": [
    {
     "data": {
      "text/plain": [
       "'/workspaces'"
      ]
     },
     "execution_count": 3,
     "metadata": {},
     "output_type": "execute_result"
    }
   ],
   "source": [
    "current_dir = os.getcwd()\n",
    "current_dir"
   ]
  },
  {
   "cell_type": "markdown",
   "metadata": {
    "id": "-mavJ8DibrcQ"
   },
   "source": [
    "# Load Collected data"
   ]
  },
  {
   "cell_type": "code",
   "execution_count": 4,
   "metadata": {},
   "outputs": [
    {
     "data": {
      "text/html": [
       "<div>\n",
       "<style scoped>\n",
       "    .dataframe tbody tr th:only-of-type {\n",
       "        vertical-align: middle;\n",
       "    }\n",
       "\n",
       "    .dataframe tbody tr th {\n",
       "        vertical-align: top;\n",
       "    }\n",
       "\n",
       "    .dataframe thead th {\n",
       "        text-align: right;\n",
       "    }\n",
       "</style>\n",
       "<table border=\"1\" class=\"dataframe\">\n",
       "  <thead>\n",
       "    <tr style=\"text-align: right;\">\n",
       "      <th></th>\n",
       "      <th>sample</th>\n",
       "      <th>1</th>\n",
       "      <th>2</th>\n",
       "      <th>3</th>\n",
       "      <th>4</th>\n",
       "      <th>5</th>\n",
       "      <th>6</th>\n",
       "    </tr>\n",
       "  </thead>\n",
       "  <tbody>\n",
       "    <tr>\n",
       "      <th>0</th>\n",
       "      <td>spectrum2.csv</td>\n",
       "      <td>20</td>\n",
       "      <td>30</td>\n",
       "      <td>40</td>\n",
       "      <td>50</td>\n",
       "      <td>60</td>\n",
       "      <td>70</td>\n",
       "    </tr>\n",
       "    <tr>\n",
       "      <th>1</th>\n",
       "      <td>spectrum1.csv</td>\n",
       "      <td>5</td>\n",
       "      <td>10</td>\n",
       "      <td>20</td>\n",
       "      <td>30</td>\n",
       "      <td>40</td>\n",
       "      <td>50</td>\n",
       "    </tr>\n",
       "  </tbody>\n",
       "</table>\n",
       "</div>"
      ],
      "text/plain": [
       "          sample   1   2   3   4   5   6\n",
       "0  spectrum2.csv  20  30  40  50  60  70\n",
       "1  spectrum1.csv   5  10  20  30  40  50"
      ]
     },
     "execution_count": 4,
     "metadata": {},
     "output_type": "execute_result"
    }
   ],
   "source": [
    "import pandas as pd\n",
    "df_raw_path = \"/workspaces/Spectral-data/outputs/datasets/collection/spectra.csv\"\n",
    "df = pd.read_csv(df_raw_path)\n",
    "df.head(3)"
   ]
  },
  {
   "cell_type": "markdown",
   "metadata": {},
   "source": [
    "# Data Integration"
   ]
  },
  {
   "cell_type": "code",
   "execution_count": 5,
   "metadata": {},
   "outputs": [
    {
     "data": {
      "text/html": [
       "<div>\n",
       "<style scoped>\n",
       "    .dataframe tbody tr th:only-of-type {\n",
       "        vertical-align: middle;\n",
       "    }\n",
       "\n",
       "    .dataframe tbody tr th {\n",
       "        vertical-align: top;\n",
       "    }\n",
       "\n",
       "    .dataframe thead th {\n",
       "        text-align: right;\n",
       "    }\n",
       "</style>\n",
       "<table border=\"1\" class=\"dataframe\">\n",
       "  <thead>\n",
       "    <tr style=\"text-align: right;\">\n",
       "      <th></th>\n",
       "      <th>sample</th>\n",
       "      <th>int1</th>\n",
       "    </tr>\n",
       "  </thead>\n",
       "  <tbody>\n",
       "    <tr>\n",
       "      <th>0</th>\n",
       "      <td>spectrum2.csv</td>\n",
       "      <td>270</td>\n",
       "    </tr>\n",
       "    <tr>\n",
       "      <th>1</th>\n",
       "      <td>spectrum1.csv</td>\n",
       "      <td>155</td>\n",
       "    </tr>\n",
       "  </tbody>\n",
       "</table>\n",
       "</div>"
      ],
      "text/plain": [
       "          sample  int1\n",
       "0  spectrum2.csv   270\n",
       "1  spectrum1.csv   155"
      ]
     },
     "execution_count": 5,
     "metadata": {},
     "output_type": "execute_result"
    }
   ],
   "source": [
    "integrated_df = df.copy()\n",
    "integrated_df.iloc[:, 1:] = df.iloc[:, 1:].cumsum(axis=1)\n",
    "integrated_df = integrated_df.iloc[:, [0, -1]]\n",
    "integrated_df.rename(columns={\"6\": \"int1\"}, inplace=True) ## changing column name\n",
    "integrated_df"
   ]
  },
  {
   "cell_type": "code",
   "execution_count": 6,
   "metadata": {},
   "outputs": [
    {
     "data": {
      "text/html": [
       "<div>\n",
       "<style scoped>\n",
       "    .dataframe tbody tr th:only-of-type {\n",
       "        vertical-align: middle;\n",
       "    }\n",
       "\n",
       "    .dataframe tbody tr th {\n",
       "        vertical-align: top;\n",
       "    }\n",
       "\n",
       "    .dataframe thead th {\n",
       "        text-align: right;\n",
       "    }\n",
       "</style>\n",
       "<table border=\"1\" class=\"dataframe\">\n",
       "  <thead>\n",
       "    <tr style=\"text-align: right;\">\n",
       "      <th></th>\n",
       "      <th>sample</th>\n",
       "      <th>int1</th>\n",
       "      <th>int2</th>\n",
       "    </tr>\n",
       "  </thead>\n",
       "  <tbody>\n",
       "    <tr>\n",
       "      <th>0</th>\n",
       "      <td>spectrum2.csv</td>\n",
       "      <td>270</td>\n",
       "      <td>180</td>\n",
       "    </tr>\n",
       "    <tr>\n",
       "      <th>1</th>\n",
       "      <td>spectrum1.csv</td>\n",
       "      <td>155</td>\n",
       "      <td>120</td>\n",
       "    </tr>\n",
       "  </tbody>\n",
       "</table>\n",
       "</div>"
      ],
      "text/plain": [
       "          sample  int1  int2\n",
       "0  spectrum2.csv   270   180\n",
       "1  spectrum1.csv   155   120"
      ]
     },
     "execution_count": 6,
     "metadata": {},
     "output_type": "execute_result"
    }
   ],
   "source": [
    "new_df = df.iloc[:, 3:7]\n",
    "new_df.iloc[:, 1:] = new_df.iloc[:, 1:].cumsum(axis=1)\n",
    "new_df\n",
    "\n",
    "integrated_df['int2'] = new_df.iloc[:, -1]\n",
    "integrated_df"
   ]
  },
  {
   "cell_type": "markdown",
   "metadata": {},
   "source": [
    "## upgraded integration function"
   ]
  },
  {
   "cell_type": "code",
   "execution_count": 7,
   "metadata": {},
   "outputs": [
    {
     "name": "stdout",
     "output_type": "stream",
     "text": [
      "          sample  Integral_1  Integral_2\n",
      "0  spectrum2.csv        40.0         0.0\n",
      "1  spectrum1.csv        40.0         0.0\n"
     ]
    }
   ],
   "source": [
    "def calculate_integrals(dataframe, range_start, range_end, wavenumber1, wavenumber2):\n",
    "    integrals = []\n",
    "\n",
    "    for i in range(len(dataframe)):\n",
    "        # Get the absorbances at the specified wavenumbers\n",
    "        absorbance1 = dataframe.iloc[i, wavenumber1]\n",
    "        absorbance2 = dataframe.iloc[i, wavenumber2]\n",
    "\n",
    "        # Calculate the baseline as the average of the two absorbances\n",
    "        baseline = (absorbance1 + absorbance2) / 2\n",
    "\n",
    "        # Subtract the baseline from the spectrum within the specified wavenumber range\n",
    "        spectrum = dataframe.iloc[i, range_start:range_end + 1] - baseline\n",
    "\n",
    "        # Calculate the integral for the spectrum within the specified wavenumber range\n",
    "        integral = spectrum.sum()\n",
    "        integrals.append(integral)\n",
    "\n",
    "    return integrals\n",
    "\n",
    "# Create a list of settings with different integration ranges and baseline wavenumbers\n",
    "integration_settings_list = [\n",
    "    {'range_start': 3, 'range_end': 7, 'wavenumber1': 3, 'wavenumber2': 4, 'column_name': 'Integral_1'},\n",
    "    {'range_start': 5, 'range_end': 9, 'wavenumber1': 5, 'wavenumber2': 6, 'column_name': 'Integral_2'},\n",
    "    # Add more settings as needed\n",
    "]\n",
    "\n",
    "# Create a DataFrame to store all integration results\n",
    "integration_df = df[['sample']].copy()\n",
    "\n",
    "# Calculate and add integrals with different settings to the DataFrame\n",
    "for settings in integration_settings_list:\n",
    "    integrals = calculate_integrals(df, settings['range_start'], settings['range_end'], settings['wavenumber1'], settings['wavenumber2'])\n",
    "    integration_df[settings['column_name']] = integrals\n",
    "\n",
    "print(integration_df)"
   ]
  },
  {
   "cell_type": "markdown",
   "metadata": {},
   "source": [
    "## Peakheight function"
   ]
  },
  {
   "cell_type": "code",
   "execution_count": 8,
   "metadata": {},
   "outputs": [
    {
     "ename": "NameError",
     "evalue": "name 'peak_heights' is not defined",
     "output_type": "error",
     "traceback": [
      "\u001b[0;31m---------------------------------------------------------------------------\u001b[0m",
      "\u001b[0;31mNameError\u001b[0m                                 Traceback (most recent call last)",
      "Cell \u001b[0;32mIn[8], line 27\u001b[0m\n\u001b[1;32m     25\u001b[0m \u001b[38;5;66;03m# Create a new DataFrame to store the peak heights\u001b[39;00m\n\u001b[1;32m     26\u001b[0m df_peak_heights \u001b[38;5;241m=\u001b[39m df[[\u001b[38;5;124m'\u001b[39m\u001b[38;5;124msample\u001b[39m\u001b[38;5;124m'\u001b[39m]]\u001b[38;5;241m.\u001b[39mcopy()\n\u001b[0;32m---> 27\u001b[0m df_peak_heights[\u001b[38;5;124m'\u001b[39m\u001b[38;5;124mpeak_height\u001b[39m\u001b[38;5;124m'\u001b[39m] \u001b[38;5;241m=\u001b[39m \u001b[43mpeak_heights\u001b[49m\n\u001b[1;32m     29\u001b[0m \u001b[38;5;28mprint\u001b[39m(df_peak_heights)\n",
      "\u001b[0;31mNameError\u001b[0m: name 'peak_heights' is not defined"
     ]
    }
   ],
   "source": [
    "def calculate_peak_heights(dataframe, wavenumber1, wavenumber2):\n",
    "    peak_heights = []\n",
    "\n",
    "    for i in range(len(dataframe)):\n",
    "        # Get the absorbances at the specified wavenumbers\n",
    "        absorbance1 = dataframe.iloc[i, wavenumber1]\n",
    "        absorbance2 = dataframe.iloc[i, wavenumber2]\n",
    "\n",
    "        # Calculate the baseline as the average of the two absorbances\n",
    "        baseline = (absorbance1 + absorbance2) / 2\n",
    "\n",
    "        # Calculate the peak height for the spectrum based on the baseline\n",
    "        peak_height = dataframe.iloc[i, range_start:range_end + 1].max() - baseline\n",
    "        peak_heights.append(peak_height)\n",
    "\n",
    "    return peak_heights\n",
    "\n",
    "# Example usage with wavenumbers for baseline (e.g., 3 and 4)\n",
    "wavenumber1 = 1  # Replace with the first wavenumber\n",
    "wavenumber2 = 6  # Replace with the second wavenumber\n",
    "\n",
    "range_start = 2  # Replace with the start of the range\n",
    "range_end = 5    # Replace with the end of the range\n",
    "\n",
    "# Create a new DataFrame to store the peak heights\n",
    "df_peak_heights = df[['sample']].copy()\n",
    "df_peak_heights['peak_height'] = peak_heights\n",
    "\n",
    "print(df_peak_heights)"
   ]
  },
  {
   "cell_type": "markdown",
   "metadata": {},
   "source": [
    "## upgraded peakheight more setttings"
   ]
  },
  {
   "cell_type": "code",
   "execution_count": 9,
   "metadata": {},
   "outputs": [
    {
     "name": "stdout",
     "output_type": "stream",
     "text": [
      "          sample  peakheight_1  Peakheight_2\n",
      "0  spectrum2.csv          25.0           5.0\n",
      "1  spectrum1.csv          25.0           5.0\n"
     ]
    }
   ],
   "source": [
    "# Assuming you have your spectral data loaded in 'df' as per your initial code\n",
    "\n",
    "def calculate_peak_heights(dataframe, wavenumber1, wavenumber2, range_start, range_end):\n",
    "    peak_heights = []\n",
    "\n",
    "    for i in range(len(dataframe)):\n",
    "        # Get the absorbances at the specified wavenumbers\n",
    "        absorbance1 = dataframe.iloc[i, wavenumber1]\n",
    "        absorbance2 = dataframe.iloc[i, wavenumber2]\n",
    "\n",
    "        # Calculate the baseline as the average of the two absorbances\n",
    "        baseline = (absorbance1 + absorbance2) / 2\n",
    "\n",
    "        # Calculate the peak height for the spectrum within the specified wavenumber range\n",
    "        peak_height = dataframe.iloc[i, range_start:range_end + 1].max() - baseline\n",
    "        peak_heights.append(peak_height)\n",
    "\n",
    "    return peak_heights\n",
    "\n",
    "# Create a list of settings with different wavenumbers and ranges\n",
    "settings_list = [\n",
    "    {'wavenumber1': 3, 'wavenumber2': 4, 'range_start': 3, 'range_end': 7, 'column_name': 'peakheight_1'},\n",
    "    {'wavenumber1': 5, 'wavenumber2': 6, 'range_start': 5, 'range_end': 9, 'column_name': 'Peakheight_2'},\n",
    "    # Add more settings as needed\n",
    "]\n",
    "\n",
    "# Create a DataFrame to store all peak heights\n",
    "peak_heights_df = df[['sample']].copy()\n",
    "\n",
    "# Calculate and add peak heights with different settings to the DataFrame\n",
    "for settings in settings_list:\n",
    "    peak_heights = calculate_peak_heights(df, settings['wavenumber1'], settings['wavenumber2'], settings['range_start'], settings['range_end'])\n",
    "    peak_heights_df[settings['column_name']] = peak_heights\n",
    "\n",
    "print(peak_heights_df)\n"
   ]
  },
  {
   "cell_type": "markdown",
   "metadata": {},
   "source": [
    "## FSD"
   ]
  },
  {
   "cell_type": "code",
   "execution_count": 40,
   "metadata": {},
   "outputs": [
    {
     "name": "stdout",
     "output_type": "stream",
     "text": [
      "Bandwidth (7) is larger than the data length. Adjusting to the maximum possible value.\n"
     ]
    },
    {
     "data": {
      "image/png": "[encoded data removed]",
      "text/plain": [
       "<Figure size 640x480 with 1 Axes>"
      ]
     },
     "metadata": {},
     "output_type": "display_data"
    },
    {
     "data": {
      "image/png": "[encoded data removed]",
      "text/plain": [
       "<Figure size 640x480 with 1 Axes>"
      ]
     },
     "metadata": {},
     "output_type": "display_data"
    }
   ],
   "source": [
    "import numpy as np\n",
    "from scipy.signal import savgol_filter\n",
    "import matplotlib.pyplot as plt\n",
    "from scipy.optimize import curve_fit\n",
    "\n",
    "# Example spectral data\n",
    "data = {\n",
    "    'Wavenumber': [1000, 1010, 1020, 1030, 1040, 1050],\n",
    "    'Spectrum1': [0.5, 0.6, 1.0, 0.8, 0.7, 0.9],\n",
    "    'Spectrum2': [0.7, 0.8, 0.9, 0.7, 0.6, 0.5]\n",
    "}\n",
    "\n",
    "df = pd.DataFrame(data)\n",
    "\n",
    "# Function to enhance spectral data with specified bandwidth\n",
    "def enhance_spectrum(data, bandwidth):\n",
    "    enhanced_data = data.copy()\n",
    "    for col in data.columns[1:]:\n",
    "        if bandwidth >= len(data):\n",
    "            print(f\"Bandwidth ({bandwidth}) is larger than the data length. Adjusting to the maximum possible value.\")\n",
    "            bandwidth = len(data) - 1\n",
    "        enhanced_data[col] = savgol_filter(data[col], window_length=bandwidth, polyorder=2)\n",
    "    return enhanced_data\n",
    "\n",
    "# Function to perform spectral deconvolution manually\n",
    "def deconvolute_spectrum(data):\n",
    "    deconvoluted_data = data.copy()\n",
    "    for col in data.columns[1:]:\n",
    "        x = data['Wavenumber']\n",
    "        y = data[col]\n",
    "        \n",
    "        # Perform deconvolution manually (Example: Fit two Gaussian peaks)\n",
    "        p0 = [max(y), x[np.argmax(y)], 10, max(y), x[np.argmax(y)] + 10, 10]\n",
    "        optimized_params, _ = curve_fit(two_gaussians, x, y, p0=p0, maxfev=5000)\n",
    "        deconvoluted_spectrum = two_gaussians(x, *optimized_params)\n",
    "        \n",
    "        deconvoluted_data[col] = deconvoluted_spectrum\n",
    "    \n",
    "    return deconvoluted_data\n",
    "\n",
    "# Define a function for the sum of two Gaussian peaks\n",
    "def two_gaussians(x, A1, mu1, sigma1, A2, mu2, sigma2):\n",
    "    return (A1 / (sigma1 * np.sqrt(2 * np.pi)) * np.exp(-(x - mu1)**2 / (2 * sigma1**2)) +\n",
    "            A2 / (sigma2 * np.sqrt(2 * np.pi)) * np.exp(-(x - mu2)**2 / (2 * sigma2**2)))\n",
    "\n",
    "# Enhance the spectral data\n",
    "enhanced_data = enhance_spectrum(df, bandwidth=7)\n",
    "\n",
    "# Deconvolute the enhanced data\n",
    "deconvoluted_data = deconvolute_spectrum(enhanced_data)\n",
    "\n",
    "# Plot the original and deconvoluted spectra\n",
    "for col in df.columns[1:]:\n",
    "    plt.plot(df['Wavenumber'], df[col], label=f'Original {col}')\n",
    "    plt.plot(deconvoluted_data['Wavenumber'], deconvoluted_data[col], label=f'Deconvoluted {col}')\n",
    "    plt.xlabel('Wavenumber')\n",
    "    plt.ylabel('Intensity')\n",
    "    plt.legend()\n",
    "    plt.show()"
   ]
  },
  {
   "cell_type": "code",
   "execution_count": 63,
   "metadata": {},
   "outputs": [
    {
     "data": {
      "image/png": "[encoded data removed]",
      "text/plain": [
       "<Figure size 800x600 with 1 Axes>"
      ]
     },
     "metadata": {},
     "output_type": "display_data"
    }
   ],
   "source": [
    "def gaussian(x, amp, mu, sig):\n",
    "    return amp * np.exp(-np.power(x - mu, 2.) / (2 * np.power(sig, 2.)))\n",
    "\n",
    "# Generate x values\n",
    "xdata = np.linspace(0, 10, 1000)\n",
    "\n",
    "# Generate a mixture of two Gaussian peaks\n",
    "y1 = gaussian(x, 1.0, 4.0, 0.5)  # First peak\n",
    "y2 = gaussian(x, 0.7, 7.0, 1.0)  # Second peak\n",
    "ydata = y1 + y2  # Combine both peaks\n",
    "\n",
    "# You can add some noise to make the data more realistic\n",
    "noise = np.random.normal(0, 0.05, x.shape)\n",
    "ydata += noise\n",
    "\n",
    "plt.figure(figsize=(8, 6))\n",
    "plt.plot(x, ydata, 'b', label='Original Data')\n",
    "plt.plot(x, y1, 'g--', label='Gaussian Peak 1')\n",
    "plt.plot(x, y2, 'r--', label='Gaussian Peak 2')\n",
    "plt.xlabel('x')\n",
    "plt.ylabel('Intensity')\n",
    "plt.legend()\n",
    "plt.show()"
   ]
  },
  {
   "cell_type": "code",
   "execution_count": 65,
   "metadata": {},
   "outputs": [
    {
     "data": {
      "text/plain": [
       "array([ 0.        ,  0.01001001,  0.02002002,  0.03003003,  0.04004004,\n",
       "        0.05005005,  0.06006006,  0.07007007,  0.08008008,  0.09009009,\n",
       "        0.1001001 ,  0.11011011,  0.12012012,  0.13013013,  0.14014014,\n",
       "        0.15015015,  0.16016016,  0.17017017,  0.18018018,  0.19019019,\n",
       "        0.2002002 ,  0.21021021,  0.22022022,  0.23023023,  0.24024024,\n",
       "        0.25025025,  0.26026026,  0.27027027,  0.28028028,  0.29029029,\n",
       "        0.3003003 ,  0.31031031,  0.32032032,  0.33033033,  0.34034034,\n",
       "        0.35035035,  0.36036036,  0.37037037,  0.38038038,  0.39039039,\n",
       "        0.4004004 ,  0.41041041,  0.42042042,  0.43043043,  0.44044044,\n",
       "        0.45045045,  0.46046046,  0.47047047,  0.48048048,  0.49049049,\n",
       "        0.5005005 ,  0.51051051,  0.52052052,  0.53053053,  0.54054054,\n",
       "        0.55055055,  0.56056056,  0.57057057,  0.58058058,  0.59059059,\n",
       "        0.6006006 ,  0.61061061,  0.62062062,  0.63063063,  0.64064064,\n",
       "        0.65065065,  0.66066066,  0.67067067,  0.68068068,  0.69069069,\n",
       "        0.7007007 ,  0.71071071,  0.72072072,  0.73073073,  0.74074074,\n",
       "        0.75075075,  0.76076076,  0.77077077,  0.78078078,  0.79079079,\n",
       "        0.8008008 ,  0.81081081,  0.82082082,  0.83083083,  0.84084084,\n",
       "        0.85085085,  0.86086086,  0.87087087,  0.88088088,  0.89089089,\n",
       "        0.9009009 ,  0.91091091,  0.92092092,  0.93093093,  0.94094094,\n",
       "        0.95095095,  0.96096096,  0.97097097,  0.98098098,  0.99099099,\n",
       "        1.001001  ,  1.01101101,  1.02102102,  1.03103103,  1.04104104,\n",
       "        1.05105105,  1.06106106,  1.07107107,  1.08108108,  1.09109109,\n",
       "        1.1011011 ,  1.11111111,  1.12112112,  1.13113113,  1.14114114,\n",
       "        1.15115115,  1.16116116,  1.17117117,  1.18118118,  1.19119119,\n",
       "        1.2012012 ,  1.21121121,  1.22122122,  1.23123123,  1.24124124,\n",
       "        1.25125125,  1.26126126,  1.27127127,  1.28128128,  1.29129129,\n",
       "        1.3013013 ,  1.31131131,  1.32132132,  1.33133133,  1.34134134,\n",
       "        1.35135135,  1.36136136,  1.37137137,  1.38138138,  1.39139139,\n",
       "        1.4014014 ,  1.41141141,  1.42142142,  1.43143143,  1.44144144,\n",
       "        1.45145145,  1.46146146,  1.47147147,  1.48148148,  1.49149149,\n",
       "        1.5015015 ,  1.51151151,  1.52152152,  1.53153153,  1.54154154,\n",
       "        1.55155155,  1.56156156,  1.57157157,  1.58158158,  1.59159159,\n",
       "        1.6016016 ,  1.61161161,  1.62162162,  1.63163163,  1.64164164,\n",
       "        1.65165165,  1.66166166,  1.67167167,  1.68168168,  1.69169169,\n",
       "        1.7017017 ,  1.71171171,  1.72172172,  1.73173173,  1.74174174,\n",
       "        1.75175175,  1.76176176,  1.77177177,  1.78178178,  1.79179179,\n",
       "        1.8018018 ,  1.81181181,  1.82182182,  1.83183183,  1.84184184,\n",
       "        1.85185185,  1.86186186,  1.87187187,  1.88188188,  1.89189189,\n",
       "        1.9019019 ,  1.91191191,  1.92192192,  1.93193193,  1.94194194,\n",
       "        1.95195195,  1.96196196,  1.97197197,  1.98198198,  1.99199199,\n",
       "        2.002002  ,  2.01201201,  2.02202202,  2.03203203,  2.04204204,\n",
       "        2.05205205,  2.06206206,  2.07207207,  2.08208208,  2.09209209,\n",
       "        2.1021021 ,  2.11211211,  2.12212212,  2.13213213,  2.14214214,\n",
       "        2.15215215,  2.16216216,  2.17217217,  2.18218218,  2.19219219,\n",
       "        2.2022022 ,  2.21221221,  2.22222222,  2.23223223,  2.24224224,\n",
       "        2.25225225,  2.26226226,  2.27227227,  2.28228228,  2.29229229,\n",
       "        2.3023023 ,  2.31231231,  2.32232232,  2.33233233,  2.34234234,\n",
       "        2.35235235,  2.36236236,  2.37237237,  2.38238238,  2.39239239,\n",
       "        2.4024024 ,  2.41241241,  2.42242242,  2.43243243,  2.44244244,\n",
       "        2.45245245,  2.46246246,  2.47247247,  2.48248248,  2.49249249,\n",
       "        2.5025025 ,  2.51251251,  2.52252252,  2.53253253,  2.54254254,\n",
       "        2.55255255,  2.56256256,  2.57257257,  2.58258258,  2.59259259,\n",
       "        2.6026026 ,  2.61261261,  2.62262262,  2.63263263,  2.64264264,\n",
       "        2.65265265,  2.66266266,  2.67267267,  2.68268268,  2.69269269,\n",
       "        2.7027027 ,  2.71271271,  2.72272272,  2.73273273,  2.74274274,\n",
       "        2.75275275,  2.76276276,  2.77277277,  2.78278278,  2.79279279,\n",
       "        2.8028028 ,  2.81281281,  2.82282282,  2.83283283,  2.84284284,\n",
       "        2.85285285,  2.86286286,  2.87287287,  2.88288288,  2.89289289,\n",
       "        2.9029029 ,  2.91291291,  2.92292292,  2.93293293,  2.94294294,\n",
       "        2.95295295,  2.96296296,  2.97297297,  2.98298298,  2.99299299,\n",
       "        3.003003  ,  3.01301301,  3.02302302,  3.03303303,  3.04304304,\n",
       "        3.05305305,  3.06306306,  3.07307307,  3.08308308,  3.09309309,\n",
       "        3.1031031 ,  3.11311311,  3.12312312,  3.13313313,  3.14314314,\n",
       "        3.15315315,  3.16316316,  3.17317317,  3.18318318,  3.19319319,\n",
       "        3.2032032 ,  3.21321321,  3.22322322,  3.23323323,  3.24324324,\n",
       "        3.25325325,  3.26326326,  3.27327327,  3.28328328,  3.29329329,\n",
       "        3.3033033 ,  3.31331331,  3.32332332,  3.33333333,  3.34334334,\n",
       "        3.35335335,  3.36336336,  3.37337337,  3.38338338,  3.39339339,\n",
       "        3.4034034 ,  3.41341341,  3.42342342,  3.43343343,  3.44344344,\n",
       "        3.45345345,  3.46346346,  3.47347347,  3.48348348,  3.49349349,\n",
       "        3.5035035 ,  3.51351351,  3.52352352,  3.53353353,  3.54354354,\n",
       "        3.55355355,  3.56356356,  3.57357357,  3.58358358,  3.59359359,\n",
       "        3.6036036 ,  3.61361361,  3.62362362,  3.63363363,  3.64364364,\n",
       "        3.65365365,  3.66366366,  3.67367367,  3.68368368,  3.69369369,\n",
       "        3.7037037 ,  3.71371371,  3.72372372,  3.73373373,  3.74374374,\n",
       "        3.75375375,  3.76376376,  3.77377377,  3.78378378,  3.79379379,\n",
       "        3.8038038 ,  3.81381381,  3.82382382,  3.83383383,  3.84384384,\n",
       "        3.85385385,  3.86386386,  3.87387387,  3.88388388,  3.89389389,\n",
       "        3.9039039 ,  3.91391391,  3.92392392,  3.93393393,  3.94394394,\n",
       "        3.95395395,  3.96396396,  3.97397397,  3.98398398,  3.99399399,\n",
       "        4.004004  ,  4.01401401,  4.02402402,  4.03403403,  4.04404404,\n",
       "        4.05405405,  4.06406406,  4.07407407,  4.08408408,  4.09409409,\n",
       "        4.1041041 ,  4.11411411,  4.12412412,  4.13413413,  4.14414414,\n",
       "        4.15415415,  4.16416416,  4.17417417,  4.18418418,  4.19419419,\n",
       "        4.2042042 ,  4.21421421,  4.22422422,  4.23423423,  4.24424424,\n",
       "        4.25425425,  4.26426426,  4.27427427,  4.28428428,  4.29429429,\n",
       "        4.3043043 ,  4.31431431,  4.32432432,  4.33433433,  4.34434434,\n",
       "        4.35435435,  4.36436436,  4.37437437,  4.38438438,  4.39439439,\n",
       "        4.4044044 ,  4.41441441,  4.42442442,  4.43443443,  4.44444444,\n",
       "        4.45445445,  4.46446446,  4.47447447,  4.48448448,  4.49449449,\n",
       "        4.5045045 ,  4.51451451,  4.52452452,  4.53453453,  4.54454454,\n",
       "        4.55455455,  4.56456456,  4.57457457,  4.58458458,  4.59459459,\n",
       "        4.6046046 ,  4.61461461,  4.62462462,  4.63463463,  4.64464464,\n",
       "        4.65465465,  4.66466466,  4.67467467,  4.68468468,  4.69469469,\n",
       "        4.7047047 ,  4.71471471,  4.72472472,  4.73473473,  4.74474474,\n",
       "        4.75475475,  4.76476476,  4.77477477,  4.78478478,  4.79479479,\n",
       "        4.8048048 ,  4.81481481,  4.82482482,  4.83483483,  4.84484484,\n",
       "        4.85485485,  4.86486486,  4.87487487,  4.88488488,  4.89489489,\n",
       "        4.9049049 ,  4.91491491,  4.92492492,  4.93493493,  4.94494494,\n",
       "        4.95495495,  4.96496496,  4.97497497,  4.98498498,  4.99499499,\n",
       "        5.00500501,  5.01501502,  5.02502503,  5.03503504,  5.04504505,\n",
       "        5.05505506,  5.06506507,  5.07507508,  5.08508509,  5.0950951 ,\n",
       "        5.10510511,  5.11511512,  5.12512513,  5.13513514,  5.14514515,\n",
       "        5.15515516,  5.16516517,  5.17517518,  5.18518519,  5.1951952 ,\n",
       "        5.20520521,  5.21521522,  5.22522523,  5.23523524,  5.24524525,\n",
       "        5.25525526,  5.26526527,  5.27527528,  5.28528529,  5.2952953 ,\n",
       "        5.30530531,  5.31531532,  5.32532533,  5.33533534,  5.34534535,\n",
       "        5.35535536,  5.36536537,  5.37537538,  5.38538539,  5.3953954 ,\n",
       "        5.40540541,  5.41541542,  5.42542543,  5.43543544,  5.44544545,\n",
       "        5.45545546,  5.46546547,  5.47547548,  5.48548549,  5.4954955 ,\n",
       "        5.50550551,  5.51551552,  5.52552553,  5.53553554,  5.54554555,\n",
       "        5.55555556,  5.56556557,  5.57557558,  5.58558559,  5.5955956 ,\n",
       "        5.60560561,  5.61561562,  5.62562563,  5.63563564,  5.64564565,\n",
       "        5.65565566,  5.66566567,  5.67567568,  5.68568569,  5.6956957 ,\n",
       "        5.70570571,  5.71571572,  5.72572573,  5.73573574,  5.74574575,\n",
       "        5.75575576,  5.76576577,  5.77577578,  5.78578579,  5.7957958 ,\n",
       "        5.80580581,  5.81581582,  5.82582583,  5.83583584,  5.84584585,\n",
       "        5.85585586,  5.86586587,  5.87587588,  5.88588589,  5.8958959 ,\n",
       "        5.90590591,  5.91591592,  5.92592593,  5.93593594,  5.94594595,\n",
       "        5.95595596,  5.96596597,  5.97597598,  5.98598599,  5.995996  ,\n",
       "        6.00600601,  6.01601602,  6.02602603,  6.03603604,  6.04604605,\n",
       "        6.05605606,  6.06606607,  6.07607608,  6.08608609,  6.0960961 ,\n",
       "        6.10610611,  6.11611612,  6.12612613,  6.13613614,  6.14614615,\n",
       "        6.15615616,  6.16616617,  6.17617618,  6.18618619,  6.1961962 ,\n",
       "        6.20620621,  6.21621622,  6.22622623,  6.23623624,  6.24624625,\n",
       "        6.25625626,  6.26626627,  6.27627628,  6.28628629,  6.2962963 ,\n",
       "        6.30630631,  6.31631632,  6.32632633,  6.33633634,  6.34634635,\n",
       "        6.35635636,  6.36636637,  6.37637638,  6.38638639,  6.3963964 ,\n",
       "        6.40640641,  6.41641642,  6.42642643,  6.43643644,  6.44644645,\n",
       "        6.45645646,  6.46646647,  6.47647648,  6.48648649,  6.4964965 ,\n",
       "        6.50650651,  6.51651652,  6.52652653,  6.53653654,  6.54654655,\n",
       "        6.55655656,  6.56656657,  6.57657658,  6.58658659,  6.5965966 ,\n",
       "        6.60660661,  6.61661662,  6.62662663,  6.63663664,  6.64664665,\n",
       "        6.65665666,  6.66666667,  6.67667668,  6.68668669,  6.6966967 ,\n",
       "        6.70670671,  6.71671672,  6.72672673,  6.73673674,  6.74674675,\n",
       "        6.75675676,  6.76676677,  6.77677678,  6.78678679,  6.7967968 ,\n",
       "        6.80680681,  6.81681682,  6.82682683,  6.83683684,  6.84684685,\n",
       "        6.85685686,  6.86686687,  6.87687688,  6.88688689,  6.8968969 ,\n",
       "        6.90690691,  6.91691692,  6.92692693,  6.93693694,  6.94694695,\n",
       "        6.95695696,  6.96696697,  6.97697698,  6.98698699,  6.996997  ,\n",
       "        7.00700701,  7.01701702,  7.02702703,  7.03703704,  7.04704705,\n",
       "        7.05705706,  7.06706707,  7.07707708,  7.08708709,  7.0970971 ,\n",
       "        7.10710711,  7.11711712,  7.12712713,  7.13713714,  7.14714715,\n",
       "        7.15715716,  7.16716717,  7.17717718,  7.18718719,  7.1971972 ,\n",
       "        7.20720721,  7.21721722,  7.22722723,  7.23723724,  7.24724725,\n",
       "        7.25725726,  7.26726727,  7.27727728,  7.28728729,  7.2972973 ,\n",
       "        7.30730731,  7.31731732,  7.32732733,  7.33733734,  7.34734735,\n",
       "        7.35735736,  7.36736737,  7.37737738,  7.38738739,  7.3973974 ,\n",
       "        7.40740741,  7.41741742,  7.42742743,  7.43743744,  7.44744745,\n",
       "        7.45745746,  7.46746747,  7.47747748,  7.48748749,  7.4974975 ,\n",
       "        7.50750751,  7.51751752,  7.52752753,  7.53753754,  7.54754755,\n",
       "        7.55755756,  7.56756757,  7.57757758,  7.58758759,  7.5975976 ,\n",
       "        7.60760761,  7.61761762,  7.62762763,  7.63763764,  7.64764765,\n",
       "        7.65765766,  7.66766767,  7.67767768,  7.68768769,  7.6976977 ,\n",
       "        7.70770771,  7.71771772,  7.72772773,  7.73773774,  7.74774775,\n",
       "        7.75775776,  7.76776777,  7.77777778,  7.78778779,  7.7977978 ,\n",
       "        7.80780781,  7.81781782,  7.82782783,  7.83783784,  7.84784785,\n",
       "        7.85785786,  7.86786787,  7.87787788,  7.88788789,  7.8978979 ,\n",
       "        7.90790791,  7.91791792,  7.92792793,  7.93793794,  7.94794795,\n",
       "        7.95795796,  7.96796797,  7.97797798,  7.98798799,  7.997998  ,\n",
       "        8.00800801,  8.01801802,  8.02802803,  8.03803804,  8.04804805,\n",
       "        8.05805806,  8.06806807,  8.07807808,  8.08808809,  8.0980981 ,\n",
       "        8.10810811,  8.11811812,  8.12812813,  8.13813814,  8.14814815,\n",
       "        8.15815816,  8.16816817,  8.17817818,  8.18818819,  8.1981982 ,\n",
       "        8.20820821,  8.21821822,  8.22822823,  8.23823824,  8.24824825,\n",
       "        8.25825826,  8.26826827,  8.27827828,  8.28828829,  8.2982983 ,\n",
       "        8.30830831,  8.31831832,  8.32832833,  8.33833834,  8.34834835,\n",
       "        8.35835836,  8.36836837,  8.37837838,  8.38838839,  8.3983984 ,\n",
       "        8.40840841,  8.41841842,  8.42842843,  8.43843844,  8.44844845,\n",
       "        8.45845846,  8.46846847,  8.47847848,  8.48848849,  8.4984985 ,\n",
       "        8.50850851,  8.51851852,  8.52852853,  8.53853854,  8.54854855,\n",
       "        8.55855856,  8.56856857,  8.57857858,  8.58858859,  8.5985986 ,\n",
       "        8.60860861,  8.61861862,  8.62862863,  8.63863864,  8.64864865,\n",
       "        8.65865866,  8.66866867,  8.67867868,  8.68868869,  8.6986987 ,\n",
       "        8.70870871,  8.71871872,  8.72872873,  8.73873874,  8.74874875,\n",
       "        8.75875876,  8.76876877,  8.77877878,  8.78878879,  8.7987988 ,\n",
       "        8.80880881,  8.81881882,  8.82882883,  8.83883884,  8.84884885,\n",
       "        8.85885886,  8.86886887,  8.87887888,  8.88888889,  8.8988989 ,\n",
       "        8.90890891,  8.91891892,  8.92892893,  8.93893894,  8.94894895,\n",
       "        8.95895896,  8.96896897,  8.97897898,  8.98898899,  8.998999  ,\n",
       "        9.00900901,  9.01901902,  9.02902903,  9.03903904,  9.04904905,\n",
       "        9.05905906,  9.06906907,  9.07907908,  9.08908909,  9.0990991 ,\n",
       "        9.10910911,  9.11911912,  9.12912913,  9.13913914,  9.14914915,\n",
       "        9.15915916,  9.16916917,  9.17917918,  9.18918919,  9.1991992 ,\n",
       "        9.20920921,  9.21921922,  9.22922923,  9.23923924,  9.24924925,\n",
       "        9.25925926,  9.26926927,  9.27927928,  9.28928929,  9.2992993 ,\n",
       "        9.30930931,  9.31931932,  9.32932933,  9.33933934,  9.34934935,\n",
       "        9.35935936,  9.36936937,  9.37937938,  9.38938939,  9.3993994 ,\n",
       "        9.40940941,  9.41941942,  9.42942943,  9.43943944,  9.44944945,\n",
       "        9.45945946,  9.46946947,  9.47947948,  9.48948949,  9.4994995 ,\n",
       "        9.50950951,  9.51951952,  9.52952953,  9.53953954,  9.54954955,\n",
       "        9.55955956,  9.56956957,  9.57957958,  9.58958959,  9.5995996 ,\n",
       "        9.60960961,  9.61961962,  9.62962963,  9.63963964,  9.64964965,\n",
       "        9.65965966,  9.66966967,  9.67967968,  9.68968969,  9.6996997 ,\n",
       "        9.70970971,  9.71971972,  9.72972973,  9.73973974,  9.74974975,\n",
       "        9.75975976,  9.76976977,  9.77977978,  9.78978979,  9.7997998 ,\n",
       "        9.80980981,  9.81981982,  9.82982983,  9.83983984,  9.84984985,\n",
       "        9.85985986,  9.86986987,  9.87987988,  9.88988989,  9.8998999 ,\n",
       "        9.90990991,  9.91991992,  9.92992993,  9.93993994,  9.94994995,\n",
       "        9.95995996,  9.96996997,  9.97997998,  9.98998999, 10.        ])"
      ]
     },
     "execution_count": 65,
     "metadata": {},
     "output_type": "execute_result"
    }
   ],
   "source": [
    "xdata"
   ]
  },
  {
   "cell_type": "code",
   "execution_count": 66,
   "metadata": {},
   "outputs": [
    {
     "data": {
      "text/plain": [
       "array([-2.71763669e-03,  4.58968997e-02,  2.12615736e-02,  3.49300602e-03,\n",
       "       -6.63042036e-02,  1.83364287e-02, -3.62964060e-02, -9.94206436e-02,\n",
       "        1.91088052e-02, -3.20320450e-02,  1.73081601e-02, -2.07488007e-02,\n",
       "       -8.51603875e-02,  2.25861599e-02, -2.45273626e-02, -3.15292354e-02,\n",
       "        3.85457976e-03, -4.00676348e-03, -4.04465796e-02, -2.91323615e-02,\n",
       "       -5.52817164e-02,  4.75509791e-03, -1.22414820e-01, -1.02135340e-01,\n",
       "        2.26915661e-02,  4.92861343e-02, -9.72561905e-02,  1.11618834e-01,\n",
       "       -1.34838767e-03, -4.29798489e-02,  5.21084879e-02, -1.88048690e-02,\n",
       "        9.57103407e-02, -3.71698754e-02,  5.06649135e-02, -8.52476885e-03,\n",
       "        4.14164945e-02,  2.11038742e-02, -5.15919662e-02, -3.35259498e-02,\n",
       "        6.72909379e-03,  3.29036132e-02,  3.47917595e-02,  8.86365991e-02,\n",
       "       -7.22347083e-02,  2.40770877e-02, -8.21070155e-02, -5.49440231e-02,\n",
       "       -9.64668224e-02,  4.35507389e-02,  9.19447499e-02, -3.57592838e-02,\n",
       "       -2.80250961e-02,  4.44326848e-02, -1.12344794e-02,  8.65274517e-03,\n",
       "        5.36828049e-02, -2.40887657e-02, -5.87342975e-03, -3.72289402e-02,\n",
       "       -3.67053900e-02,  2.67242632e-02, -5.02591843e-02,  1.90275081e-03,\n",
       "       -8.82748214e-02, -1.11192256e-02,  1.59962313e-02, -1.22212421e-01,\n",
       "        5.90617380e-02,  6.49201389e-02,  8.90138914e-03, -1.21408135e-02,\n",
       "       -4.39664396e-02,  2.23244500e-02,  1.57213166e-02, -3.90458848e-02,\n",
       "        5.50221943e-02,  1.31506843e-01, -1.01108534e-02, -8.20811500e-02,\n",
       "        2.22952383e-02, -9.63911578e-03, -3.18679388e-02, -4.16173825e-02,\n",
       "        1.99443015e-02,  2.01471580e-02, -5.55847299e-03,  4.06501791e-02,\n",
       "       -4.65645693e-03,  4.77094927e-02, -8.10944465e-02,  1.67616320e-02,\n",
       "       -8.32510491e-02,  8.07739441e-03,  1.14091387e-02, -8.05960891e-02,\n",
       "       -3.68510230e-02, -6.91005121e-03, -5.39145723e-02,  4.86839738e-02,\n",
       "       -8.46467838e-03,  1.60607584e-02, -2.15310891e-02,  2.48432331e-03,\n",
       "       -4.36825880e-02, -4.32542123e-02, -2.84165459e-02, -3.76216305e-02,\n",
       "       -9.71079218e-03, -8.31520569e-02,  1.17486794e-02, -1.67108865e-02,\n",
       "        1.41403731e-02, -1.99892116e-03, -5.28433469e-02,  9.75582473e-02,\n",
       "       -8.91122283e-02,  2.00618724e-01,  1.66589099e-02,  6.06750644e-02,\n",
       "        7.03862696e-02,  1.32930604e-02, -8.69605331e-03,  6.20546981e-02,\n",
       "       -2.71767451e-03,  1.75885397e-02,  4.45225224e-02,  1.74159877e-02,\n",
       "       -1.24577777e-01,  4.89578274e-02,  2.13325678e-03, -4.10880825e-02,\n",
       "        2.39720181e-02,  1.15542201e-02, -6.46176443e-02, -4.62507944e-02,\n",
       "        4.14782130e-02, -5.38675664e-02,  5.89709355e-03, -1.59039072e-02,\n",
       "       -4.55351441e-02,  2.15782675e-02, -1.25906271e-02,  9.32991086e-02,\n",
       "       -2.36821922e-03,  1.11461268e-02, -8.36938989e-03, -2.14851367e-03,\n",
       "       -7.45136811e-02,  5.15241465e-02, -4.49659830e-02, -2.10530752e-02,\n",
       "       -3.11128693e-02,  4.48782075e-02,  3.44895333e-02, -3.01559231e-02,\n",
       "       -1.58082840e-01, -5.78889010e-02, -5.46858987e-02, -2.16963850e-02,\n",
       "        6.46355928e-02, -7.21313742e-02,  1.32969359e-02, -1.06528326e-02,\n",
       "       -8.80192301e-02, -4.89865109e-03, -1.63349865e-02, -5.86968814e-02,\n",
       "        1.85848302e-02, -9.67555096e-02,  6.08076722e-02, -8.00321237e-03,\n",
       "        3.08562458e-02, -3.85269536e-02,  4.81001248e-02, -2.54868416e-02,\n",
       "       -6.71271616e-02,  5.38293127e-02, -3.50860867e-02, -6.36915915e-02,\n",
       "        1.43881730e-02, -4.75519730e-02, -4.86865097e-02, -4.42274376e-02,\n",
       "       -7.17674204e-02, -1.35998769e-03,  1.80049927e-03,  1.73782632e-03,\n",
       "        5.35808536e-02,  5.24340583e-03,  1.28570255e-01, -2.66083630e-02,\n",
       "        3.80078240e-03,  4.88943550e-02,  3.56193998e-02, -3.28467276e-02,\n",
       "        6.92095833e-02, -1.04182956e-01, -4.02762841e-02, -5.67952893e-02,\n",
       "        3.26286027e-02,  1.96749256e-02, -7.97633432e-02,  1.38678905e-03,\n",
       "        1.30280653e-02, -2.76393950e-03,  1.97551907e-02, -2.72740235e-02,\n",
       "        3.11594429e-02,  3.76378349e-02, -1.82409417e-02,  2.93275947e-02,\n",
       "        2.21597747e-02,  4.12070607e-02, -3.83162955e-02,  3.27400310e-03,\n",
       "        3.89832542e-02,  2.66866291e-02, -3.52246160e-03, -6.30114587e-02,\n",
       "       -6.82333870e-02,  5.97318028e-02,  2.20810743e-02, -4.64871017e-02,\n",
       "        5.74245597e-02, -5.35824425e-02,  8.78057548e-02,  6.79321043e-02,\n",
       "       -4.05027194e-03,  1.08496153e-02,  1.85796709e-02, -8.31897677e-02,\n",
       "        2.74681425e-02,  4.30355853e-02, -4.84580332e-02,  4.65827132e-04,\n",
       "       -3.35188004e-02,  3.82627298e-02,  7.31398672e-03, -6.21714463e-02,\n",
       "       -3.05262340e-02,  1.51458682e-02, -8.46931773e-02, -1.37193203e-02,\n",
       "        3.51388300e-04,  3.91277911e-02,  2.81816154e-03, -2.14142002e-02,\n",
       "        1.22520472e-01, -1.64607316e-03,  5.29891720e-02,  5.42298347e-03,\n",
       "        5.10324004e-02, -3.54158518e-03,  2.25016496e-03, -1.03270661e-01,\n",
       "        1.05432612e-01,  3.48640142e-02,  1.85792332e-02,  1.12197514e-02,\n",
       "        3.61651747e-02, -1.16464417e-01, -4.87831896e-02,  1.74331962e-02,\n",
       "        2.37353351e-02,  4.74258563e-02,  7.54602354e-03,  4.18087945e-02,\n",
       "        6.95904858e-02,  2.83958669e-02,  1.30363386e-01,  2.71097715e-02,\n",
       "        7.07908515e-03, -3.00235599e-02,  6.03670366e-02,  3.47723623e-02,\n",
       "        4.20891152e-02,  1.06770448e-01,  1.05246992e-01,  3.88963250e-02,\n",
       "        4.85024014e-02,  8.97769614e-02,  5.71341537e-02,  8.20411297e-03,\n",
       "        4.76510691e-02,  1.16246452e-01,  1.47892913e-02,  1.73883946e-01,\n",
       "        1.29672380e-01,  7.19000078e-02,  5.04292297e-02,  1.11406374e-01,\n",
       "        1.37712932e-01,  6.26623636e-02,  9.17294024e-02,  1.05564213e-01,\n",
       "        4.57156729e-02,  1.27675959e-01,  1.09628418e-01,  1.01901047e-01,\n",
       "        2.80288095e-02,  1.11042191e-01,  1.92519616e-01,  1.85201607e-01,\n",
       "        1.10014773e-01,  1.09112082e-01,  6.73950763e-02,  1.54149691e-01,\n",
       "        2.24285181e-01,  2.03999075e-01,  3.53183560e-01,  2.69680730e-01,\n",
       "        3.11221088e-01,  3.01760877e-01,  2.62772801e-01,  2.34039722e-01,\n",
       "        2.36867761e-01,  2.80365089e-01,  3.22475590e-01,  3.36141826e-01,\n",
       "        2.41903825e-01,  2.34925677e-01,  3.22353688e-01,  3.71025877e-01,\n",
       "        3.48150248e-01,  3.64755047e-01,  3.64440577e-01,  3.02839323e-01,\n",
       "        2.70657411e-01,  4.24922445e-01,  4.35271949e-01,  3.88521839e-01,\n",
       "        3.59920801e-01,  3.56203893e-01,  4.06045275e-01,  4.47936199e-01,\n",
       "        3.93550333e-01,  4.44319714e-01,  5.05251127e-01,  5.05441966e-01,\n",
       "        4.06874167e-01,  4.91387821e-01,  5.63393772e-01,  4.90591392e-01,\n",
       "        5.49952911e-01,  6.25889438e-01,  6.52021310e-01,  5.85386229e-01,\n",
       "        6.78153111e-01,  5.96296666e-01,  5.87208756e-01,  6.40526661e-01,\n",
       "        5.97307498e-01,  5.98160610e-01,  5.61194029e-01,  7.44062286e-01,\n",
       "        6.36050126e-01,  6.66526752e-01,  7.28290077e-01,  7.39547733e-01,\n",
       "        7.10948702e-01,  6.90664560e-01,  7.61113623e-01,  8.35353809e-01,\n",
       "        7.34984576e-01,  7.98042664e-01,  7.39929495e-01,  7.70595311e-01,\n",
       "        8.61182975e-01,  7.47835066e-01,  8.49723721e-01,  8.23573642e-01,\n",
       "        7.87383108e-01,  9.62898977e-01,  8.34060411e-01,  9.25914466e-01,\n",
       "        9.44284398e-01,  9.82830930e-01,  8.82715675e-01,  9.23656296e-01,\n",
       "        9.29879705e-01,  9.15761439e-01,  9.35694879e-01,  1.00126111e+00,\n",
       "        1.00714571e+00,  9.46994763e-01,  9.28029396e-01,  9.76373038e-01,\n",
       "        9.94471617e-01,  8.91124561e-01,  1.01599903e+00,  1.02595965e+00,\n",
       "        1.00718228e+00,  1.03550233e+00,  9.25941397e-01,  1.02000591e+00,\n",
       "        1.03683010e+00,  9.99963804e-01,  9.94406580e-01,  1.04138988e+00,\n",
       "        1.00536228e+00,  9.21110408e-01,  1.00270558e+00,  9.98919704e-01,\n",
       "        1.02076055e+00,  1.00640133e+00,  1.04189856e+00,  1.03727418e+00,\n",
       "        9.28893260e-01,  9.73022337e-01,  9.87705434e-01,  9.42637346e-01,\n",
       "        9.33748238e-01,  9.10056913e-01,  1.07675871e+00,  9.47759958e-01,\n",
       "        9.56186160e-01,  9.44652077e-01,  9.83668070e-01,  9.43120661e-01,\n",
       "        8.95170145e-01,  8.92936598e-01,  7.91061982e-01,  9.02962108e-01,\n",
       "        9.22160558e-01,  8.60206043e-01,  9.34162541e-01,  8.54064395e-01,\n",
       "        9.11797014e-01,  8.18514439e-01,  9.60258758e-01,  8.39343331e-01,\n",
       "        9.05459288e-01,  7.78176273e-01,  7.14148025e-01,  7.42135146e-01,\n",
       "        8.68085437e-01,  7.68438957e-01,  8.01845290e-01,  8.00925122e-01,\n",
       "        7.11869025e-01,  6.73919580e-01,  7.20846400e-01,  6.94749482e-01,\n",
       "        7.67341430e-01,  6.11148853e-01,  6.84857938e-01,  7.07804095e-01,\n",
       "        7.05951990e-01,  6.46616518e-01,  7.08362641e-01,  6.15182899e-01,\n",
       "        6.11465220e-01,  6.63540231e-01,  5.95020202e-01,  6.07069444e-01,\n",
       "        5.37011853e-01,  5.53716478e-01,  5.75539269e-01,  5.55114165e-01,\n",
       "        4.59308077e-01,  5.43007593e-01,  5.77824549e-01,  5.12896241e-01,\n",
       "        5.66870662e-01,  4.46496833e-01,  4.69018639e-01,  3.95807535e-01,\n",
       "        4.86323538e-01,  3.92124390e-01,  4.45596845e-01,  3.27263720e-01,\n",
       "        3.77543814e-01,  3.34890187e-01,  4.06379763e-01,  3.52204691e-01,\n",
       "        3.93529686e-01,  4.62846396e-01,  3.64872982e-01,  3.64042533e-01,\n",
       "        3.78918608e-01,  2.79697954e-01,  3.54358796e-01,  2.88008569e-01,\n",
       "        3.55435652e-01,  2.61157893e-01,  2.47599882e-01,  2.62629882e-01,\n",
       "        3.49084251e-01,  3.07293356e-01,  2.05891624e-01,  3.20378385e-01,\n",
       "        2.70717026e-01,  1.45387296e-01,  2.93320063e-01,  2.89910842e-01,\n",
       "        2.23366393e-01,  2.51580041e-01,  2.18492192e-01,  1.97036620e-01,\n",
       "        2.09706440e-01,  2.93142929e-01,  2.62772583e-01,  2.15762157e-01,\n",
       "        1.75401442e-01,  2.95552311e-01,  1.51270757e-01,  2.77220202e-01,\n",
       "        2.13157058e-01,  1.73311691e-01,  2.04002129e-01,  2.73349099e-01,\n",
       "        1.45197293e-01,  1.43374762e-01,  2.13184668e-01,  2.36910352e-01,\n",
       "        8.98731453e-02,  2.61690936e-01,  2.00517005e-01,  2.32657358e-01,\n",
       "        2.49811123e-01,  2.10837702e-01,  1.01147596e-01,  1.56097229e-01,\n",
       "        2.70680013e-01,  1.71763259e-01,  2.04685544e-01,  2.62496001e-01,\n",
       "        2.17447921e-01,  2.30644702e-01,  2.00148789e-01,  2.05033932e-01,\n",
       "        2.38648796e-01,  1.81402785e-01,  1.85051590e-01,  1.71027833e-01,\n",
       "        2.37205715e-01,  1.52436534e-01,  1.83827343e-01,  2.69606528e-01,\n",
       "        3.01199623e-01,  2.40480657e-01,  2.26200488e-01,  1.26517952e-01,\n",
       "        2.89968178e-01,  3.34734310e-01,  2.76933053e-01,  2.73681025e-01,\n",
       "        2.11049740e-01,  2.33423608e-01,  2.12094215e-01,  2.72069928e-01,\n",
       "        1.28819252e-01,  1.99005548e-01,  2.88744426e-01,  2.24428613e-01,\n",
       "        3.27020790e-01,  2.56524266e-01,  2.60041150e-01,  2.79257470e-01,\n",
       "        3.56039306e-01,  2.97385492e-01,  3.27023882e-01,  2.69633186e-01,\n",
       "        3.67603034e-01,  3.00926539e-01,  2.66695119e-01,  2.20572140e-01,\n",
       "        2.98161673e-01,  3.53064602e-01,  3.37179406e-01,  2.71814220e-01,\n",
       "        3.71509577e-01,  2.89075459e-01,  3.15574533e-01,  4.23000459e-01,\n",
       "        2.76938211e-01,  3.90423737e-01,  3.11946995e-01,  4.61940762e-01,\n",
       "        4.39803906e-01,  3.83674512e-01,  3.56030377e-01,  4.00961256e-01,\n",
       "        3.32223118e-01,  3.50518959e-01,  4.09355635e-01,  3.99635512e-01,\n",
       "        3.87151137e-01,  4.28590998e-01,  3.83590159e-01,  3.48171212e-01,\n",
       "        4.30757946e-01,  4.33326747e-01,  4.39436255e-01,  4.36932786e-01,\n",
       "        4.79663880e-01,  4.22829799e-01,  3.95437435e-01,  4.28398587e-01,\n",
       "        3.84973745e-01,  3.52532798e-01,  4.43169987e-01,  5.10044133e-01,\n",
       "        4.22849238e-01,  4.43012764e-01,  3.97141372e-01,  5.42220497e-01,\n",
       "        4.92832862e-01,  5.04464124e-01,  5.01317874e-01,  4.78427787e-01,\n",
       "        5.22643775e-01,  4.23278215e-01,  3.37382475e-01,  5.42252260e-01,\n",
       "        4.10529276e-01,  4.98702574e-01,  4.51455531e-01,  6.01228090e-01,\n",
       "        5.41710529e-01,  4.55974429e-01,  4.87555304e-01,  5.98917216e-01,\n",
       "        4.84891260e-01,  5.27430843e-01,  4.83862868e-01,  5.18849932e-01,\n",
       "        4.83770184e-01,  5.79483917e-01,  4.52765830e-01,  6.18019431e-01,\n",
       "        6.06786288e-01,  5.23554870e-01,  5.53468592e-01,  6.21732282e-01,\n",
       "        5.90656256e-01,  6.53751090e-01,  4.51892590e-01,  6.33903375e-01,\n",
       "        6.43500540e-01,  5.40249839e-01,  5.78452408e-01,  6.08838571e-01,\n",
       "        6.11607932e-01,  5.75697819e-01,  6.15133924e-01,  6.30099232e-01,\n",
       "        7.15105700e-01,  5.87236952e-01,  6.39485555e-01,  5.70022830e-01,\n",
       "        5.60216268e-01,  6.39817804e-01,  5.93963743e-01,  6.01392138e-01,\n",
       "        7.00811392e-01,  6.11076670e-01,  5.49435754e-01,  5.78496644e-01,\n",
       "        6.30254770e-01,  7.01370349e-01,  5.95870346e-01,  7.42698336e-01,\n",
       "        6.36393818e-01,  7.59021583e-01,  8.02301945e-01,  5.94234826e-01,\n",
       "        6.15300071e-01,  5.57467417e-01,  6.21068908e-01,  6.37977704e-01,\n",
       "        6.12319394e-01,  7.51999267e-01,  6.81746885e-01,  6.11315120e-01,\n",
       "        6.78712026e-01,  6.75165563e-01,  6.82135399e-01,  8.11640020e-01,\n",
       "        6.34986026e-01,  6.97003471e-01,  6.88641654e-01,  7.35008478e-01,\n",
       "        6.90687317e-01,  7.65588203e-01,  7.25941709e-01,  7.66780095e-01,\n",
       "        7.37766680e-01,  7.50210137e-01,  5.65503747e-01,  6.96178153e-01,\n",
       "        7.17116543e-01,  6.90233173e-01,  6.33601354e-01,  7.66540999e-01,\n",
       "        6.39122121e-01,  6.57540687e-01,  6.64024705e-01,  6.81409109e-01,\n",
       "        6.56107645e-01,  6.28549349e-01,  6.81614716e-01,  6.89030567e-01,\n",
       "        6.72472378e-01,  7.03546412e-01,  6.71874494e-01,  6.68538015e-01,\n",
       "        7.52017469e-01,  6.43975176e-01,  7.30433909e-01,  6.11703187e-01,\n",
       "        8.16496995e-01,  7.20605662e-01,  7.06186885e-01,  8.10695714e-01,\n",
       "        6.38123163e-01,  6.70673497e-01,  6.67506981e-01,  6.63651257e-01,\n",
       "        6.39820464e-01,  6.33452007e-01,  6.72413774e-01,  6.33161232e-01,\n",
       "        6.45985036e-01,  6.29503651e-01,  6.74135853e-01,  7.39408922e-01,\n",
       "        6.70967570e-01,  6.73697589e-01,  6.09660606e-01,  7.13503535e-01,\n",
       "        7.10185789e-01,  6.33679081e-01,  6.38353350e-01,  6.23231469e-01,\n",
       "        6.68362209e-01,  6.89368181e-01,  6.92717640e-01,  5.62258423e-01,\n",
       "        6.28762839e-01,  6.77390561e-01,  6.02478844e-01,  6.55805946e-01,\n",
       "        5.57863117e-01,  6.53129982e-01,  6.49886152e-01,  5.80753305e-01,\n",
       "        6.08891635e-01,  6.10592347e-01,  7.00063330e-01,  6.33573562e-01,\n",
       "        6.37465370e-01,  6.42765556e-01,  5.52670538e-01,  6.52569150e-01,\n",
       "        6.14704697e-01,  5.20412342e-01,  5.90633517e-01,  5.40181425e-01,\n",
       "        4.76111733e-01,  5.79979589e-01,  5.41616115e-01,  5.89149053e-01,\n",
       "        6.33376221e-01,  5.38785668e-01,  5.37816168e-01,  5.86452996e-01,\n",
       "        6.19422171e-01,  5.53279910e-01,  4.71013160e-01,  5.50786217e-01,\n",
       "        5.31023306e-01,  4.73332830e-01,  4.89449446e-01,  6.33621775e-01,\n",
       "        5.85863832e-01,  5.11212351e-01,  4.29573644e-01,  5.25716462e-01,\n",
       "        5.34558687e-01,  5.30577453e-01,  6.30901084e-01,  5.65649035e-01,\n",
       "        4.58058718e-01,  4.50953924e-01,  5.34538645e-01,  4.92487030e-01,\n",
       "        4.13777922e-01,  3.76580643e-01,  4.39286747e-01,  3.56009953e-01,\n",
       "        5.02629363e-01,  4.71592956e-01,  5.57654598e-01,  3.95755418e-01,\n",
       "        4.40794230e-01,  4.28454472e-01,  3.94784069e-01,  4.88047302e-01,\n",
       "        4.34352824e-01,  3.47817341e-01,  4.05680323e-01,  3.78538457e-01,\n",
       "        3.82971174e-01,  4.32296314e-01,  3.94819934e-01,  3.91210607e-01,\n",
       "        4.86091002e-01,  3.35732519e-01,  4.01569443e-01,  4.03333549e-01,\n",
       "        3.92249338e-01,  3.70928486e-01,  4.11293409e-01,  3.26509403e-01,\n",
       "        3.67597983e-01,  2.64894379e-01,  4.27969887e-01,  3.79713235e-01,\n",
       "        2.64080890e-01,  3.17462662e-01,  3.23666882e-01,  2.72666036e-01,\n",
       "        2.72801380e-01,  2.69489460e-01,  2.95405850e-01,  3.97395782e-01,\n",
       "        3.29625496e-01,  3.63995134e-01,  3.45010797e-01,  2.68892229e-01,\n",
       "        3.03456485e-01,  3.58009734e-01,  3.41276202e-01,  2.45927498e-01,\n",
       "        3.30861225e-01,  2.07744882e-01,  3.35608437e-01,  2.36203982e-01,\n",
       "        2.45303269e-01,  2.45317487e-01,  2.88654887e-01,  2.61885657e-01,\n",
       "        2.52898037e-01,  1.81566948e-01,  2.01396039e-01,  2.90939622e-01,\n",
       "        2.44703827e-01,  1.88795737e-01,  1.35875152e-01,  2.82169333e-01,\n",
       "        3.47943140e-01,  1.92453765e-01,  2.64448785e-01,  1.87780224e-01,\n",
       "        2.05192924e-01,  1.94016837e-01,  2.26700232e-01,  2.74265847e-01,\n",
       "        2.58638495e-01,  2.05348716e-01,  2.34577829e-01,  1.81479545e-01,\n",
       "        1.87974500e-01,  1.90782771e-01,  1.72687025e-01,  1.93611883e-01,\n",
       "        1.52441559e-01,  1.07973838e-01,  1.17342668e-01,  6.91867273e-02,\n",
       "        1.15373457e-01,  1.58146578e-01,  1.46417103e-01,  1.29294234e-01,\n",
       "        2.49502137e-01,  1.62490783e-01,  8.81187540e-02,  1.10144426e-01,\n",
       "        9.52089258e-02,  1.66440331e-01,  2.33230223e-01,  1.51070225e-01,\n",
       "        5.78802772e-02,  1.99063265e-01,  1.19885853e-02,  7.54928994e-02,\n",
       "        1.39908659e-01,  1.30911514e-01,  1.69649852e-01,  1.04232182e-01,\n",
       "        6.53135548e-02,  9.81249913e-02,  1.90963436e-01,  1.00633267e-01,\n",
       "        1.08755905e-01,  1.26521146e-01,  9.36263948e-02,  8.33733372e-04,\n",
       "        4.27739960e-02,  1.49208899e-01,  1.05099189e-01,  4.94817846e-02,\n",
       "        1.03938915e-01,  4.03993130e-02,  1.04494209e-02,  4.61772281e-02,\n",
       "        1.16703635e-01,  3.78495009e-02,  6.50481921e-02,  1.00499853e-01,\n",
       "        1.43858483e-02,  1.23527254e-01,  2.89467821e-02,  1.21129070e-01,\n",
       "        1.02594096e-01, -4.46958318e-02,  2.56426551e-02,  8.82154241e-03,\n",
       "        4.60301960e-02,  1.15176396e-02,  5.17395315e-02,  7.44882327e-02,\n",
       "        2.23420355e-01,  5.99959858e-02,  8.76978631e-02,  2.50841945e-02,\n",
       "        4.56325591e-02,  9.15734097e-02,  1.53120476e-01,  6.95708335e-02,\n",
       "        5.99181606e-02,  2.70969962e-02,  8.32374349e-02,  2.14799599e-02,\n",
       "        4.29066775e-02,  4.46841348e-02,  5.42857271e-02,  5.39251344e-02,\n",
       "       -6.55312943e-03,  1.08905812e-01, -5.80257076e-02,  1.21694424e-02,\n",
       "        3.88638669e-03,  1.18996807e-03,  3.75972878e-02,  5.35954595e-02,\n",
       "        3.49326891e-02, -3.31986631e-02, -1.93078004e-02,  6.42561620e-02,\n",
       "       -5.20219865e-03,  4.49757411e-02,  7.06465811e-03,  7.34631525e-02,\n",
       "        5.04642160e-02,  4.82514945e-02,  8.86046253e-03, -2.47943153e-03,\n",
       "        5.09116895e-02,  3.02747032e-02,  4.44825001e-02, -5.50396860e-02,\n",
       "        2.20247505e-02,  2.94451224e-03,  1.35758528e-02,  6.44015365e-02,\n",
       "        2.39885904e-02, -9.66660460e-03,  4.94357961e-02,  4.04598689e-02,\n",
       "        1.47260086e-04, -2.46589514e-02, -3.31074086e-03,  2.30520972e-02,\n",
       "        5.47112153e-02,  9.52736358e-03,  1.44573686e-01,  2.35922922e-02,\n",
       "        5.88716118e-02, -2.86228101e-02, -2.67301689e-02,  1.03902284e-01,\n",
       "        5.70418126e-02,  2.61839008e-02,  5.18494026e-02,  8.99077028e-02,\n",
       "       -6.28055892e-03,  2.09334259e-02,  7.51160989e-02, -3.07715740e-02,\n",
       "        6.31884463e-02,  4.56602065e-02,  3.11443116e-02,  1.59741401e-02,\n",
       "        4.66666721e-02,  1.70389103e-02,  3.25244403e-02, -5.48699059e-02])"
      ]
     },
     "execution_count": 66,
     "metadata": {},
     "output_type": "execute_result"
    }
   ],
   "source": [
    "ydata"
   ]
  },
  {
   "cell_type": "code",
   "execution_count": 67,
   "metadata": {},
   "outputs": [
    {
     "name": "stderr",
     "output_type": "stream",
     "text": [
      "/home/codeany/.local/lib/python3.8/site-packages/scipy/optimize/_minpack_py.py:881: OptimizeWarning: Covariance of the parameters could not be estimated\n",
      "  warnings.warn('Covariance of the parameters could not be estimated',\n",
      "/tmp/ipykernel_2274/3123572256.py:10: RuntimeWarning: divide by zero encountered in true_divide\n",
      "  result += c + amp * np.exp(-np.power(x - mu, 2.) / (2 * np.power(sig, 2.)))\n",
      "/tmp/ipykernel_2274/3123572256.py:10: RuntimeWarning: invalid value encountered in true_divide\n",
      "  result += c + amp * np.exp(-np.power(x - mu, 2.) / (2 * np.power(sig, 2.)))\n"
     ]
    },
    {
     "name": "stdout",
     "output_type": "stream",
     "text": [
      "Peak 1:\n",
      "Amplitude (amp): 1.3587503917827715\n",
      "Mean (mu): -2.2583047749632055\n",
      "Standard Deviation (sig): 0.22045057808829308\n",
      "Constant (c): -158.66228745126492\n",
      "Peak 2:\n",
      "Amplitude (amp): -0.3401188281753158\n",
      "Mean (mu): 9.526368322044\n",
      "Standard Deviation (sig): 0.5941306486505835\n",
      "Constant (c): 159.00246465198754\n"
     ]
    },
    {
     "data": {
      "image/png": "[encoded data removed]",
      "text/plain": [
       "<Figure size 800x600 with 1 Axes>"
      ]
     },
     "metadata": {},
     "output_type": "display_data"
    }
   ],
   "source": [
    "\n",
    "from scipy.optimize import curve_fit\n",
    "import numpy as np\n",
    "import matplotlib.pyplot as plt\n",
    "\n",
    "# Define a function for the sum of Gaussian peaks\n",
    "def sum_of_gaussians(x, *params):\n",
    "    result = np.zeros_like(x, dtype=np.float64)\n",
    "    for i in range(0, len(params), 4):\n",
    "        amp, mu, sig, c = params[i:i+4]\n",
    "        result += c + amp * np.exp(-np.power(x - mu, 2.) / (2 * np.power(sig, 2.)))\n",
    "    return result\n",
    "    \n",
    "# Function to fit and deconvolute Gaussian peaks\n",
    "def fit_and_deconvolute(x, y, num_peaks):\n",
    "    # Initial guesses for the parameters for all peaks\n",
    "    initial_params = []\n",
    "    for _ in range(num_peaks):\n",
    "        initial_params.extend([1.0, 5.0, 1.0, 0.0])  # Use float values to match the data types\n",
    "\n",
    "    # Fit the sum of Gaussian peaks to the data\n",
    "    optimal_params, _ = curve_fit(sum_of_gaussians, x, y, p0=initial_params)\n",
    "\n",
    "    # Extract and print the optimized parameters for each Gaussian peak\n",
    "    peaks = []\n",
    "    for i in range(num_peaks):\n",
    "        amp, mu, sig, c = optimal_params[i * 4:i * 4 + 4]\n",
    "        peaks.append((amp, mu, sig, c))\n",
    "        print(f\"Peak {i + 1}:\")\n",
    "        print(f\"Amplitude (amp): {amp}\")\n",
    "        print(f\"Mean (mu): {mu}\")\n",
    "        print(f\"Standard Deviation (sig): {sig}\")\n",
    "        print(f\"Constant (c): {c}\")\n",
    "\n",
    "    # Create deconvoluted Gaussian peaks\n",
    "    deconvoluted_peaks = []\n",
    "    for i in range(num_peaks):\n",
    "        deconvoluted_peak = sum_of_gaussians(x, *([0.0] * (i * 4)) + list(optimal_params[i * 4:i * 4 + 4]) + [0.0] * (4 * (num_peaks - i - 1)))\n",
    "        deconvoluted_peaks.append(deconvoluted_peak)\n",
    "\n",
    "    return peaks, deconvoluted_peaks\n",
    "\n",
    "# Example data\n",
    "x = xdata\n",
    "y = ydata\n",
    "\n",
    "# Number of Gaussian peaks to fit\n",
    "num_peaks = 2\n",
    "\n",
    "peaks, deconvoluted_peaks = fit_and_deconvolute(x, y, num_peaks)\n",
    "\n",
    "# Plot the original and deconvoluted peaks\n",
    "plt.figure(figsize=(8, 6))\n",
    "plt.plot(x, y, 'b', label='Original Data')\n",
    "for i, deconvoluted_peak in enumerate(deconvoluted_peaks):\n",
    "    plt.plot(x, deconvoluted_peak, label=f'Deconvoluted Peak {i + 1}')\n",
    "plt.xlabel('x')\n",
    "plt.ylabel('Intensity')\n",
    "plt.legend()\n",
    "plt.show()\n"
   ]
  },
  {
   "cell_type": "markdown",
   "metadata": {},
   "source": [
    "## merging of calculation frames"
   ]
  },
  {
   "cell_type": "code",
   "execution_count": 10,
   "metadata": {},
   "outputs": [
    {
     "data": {
      "text/html": [
       "<div>\n",
       "<style scoped>\n",
       "    .dataframe tbody tr th:only-of-type {\n",
       "        vertical-align: middle;\n",
       "    }\n",
       "\n",
       "    .dataframe tbody tr th {\n",
       "        vertical-align: top;\n",
       "    }\n",
       "\n",
       "    .dataframe thead th {\n",
       "        text-align: right;\n",
       "    }\n",
       "</style>\n",
       "<table border=\"1\" class=\"dataframe\">\n",
       "  <thead>\n",
       "    <tr style=\"text-align: right;\">\n",
       "      <th></th>\n",
       "      <th>sample</th>\n",
       "      <th>peakheight_1</th>\n",
       "      <th>Peakheight_2</th>\n",
       "      <th>Integral_1</th>\n",
       "      <th>Integral_2</th>\n",
       "    </tr>\n",
       "  </thead>\n",
       "  <tbody>\n",
       "    <tr>\n",
       "      <th>0</th>\n",
       "      <td>spectrum2.csv</td>\n",
       "      <td>25.0</td>\n",
       "      <td>5.0</td>\n",
       "      <td>40.0</td>\n",
       "      <td>0.0</td>\n",
       "    </tr>\n",
       "    <tr>\n",
       "      <th>1</th>\n",
       "      <td>spectrum1.csv</td>\n",
       "      <td>25.0</td>\n",
       "      <td>5.0</td>\n",
       "      <td>40.0</td>\n",
       "      <td>0.0</td>\n",
       "    </tr>\n",
       "  </tbody>\n",
       "</table>\n",
       "</div>"
      ],
      "text/plain": [
       "          sample  peakheight_1  Peakheight_2  Integral_1  Integral_2\n",
       "0  spectrum2.csv          25.0           5.0        40.0         0.0\n",
       "1  spectrum1.csv          25.0           5.0        40.0         0.0"
      ]
     },
     "execution_count": 10,
     "metadata": {},
     "output_type": "execute_result"
    }
   ],
   "source": [
    "merged_df = peak_heights_df.merge(integration_df, on='sample', how='inner')\n",
    "merged_df"
   ]
  },
  {
   "cell_type": "code",
   "execution_count": 25,
   "metadata": {},
   "outputs": [
    {
     "data": {
      "text/html": [
       "<div>\n",
       "<style scoped>\n",
       "    .dataframe tbody tr th:only-of-type {\n",
       "        vertical-align: middle;\n",
       "    }\n",
       "\n",
       "    .dataframe tbody tr th {\n",
       "        vertical-align: top;\n",
       "    }\n",
       "\n",
       "    .dataframe thead th {\n",
       "        text-align: right;\n",
       "    }\n",
       "</style>\n",
       "<table border=\"1\" class=\"dataframe\">\n",
       "  <thead>\n",
       "    <tr style=\"text-align: right;\">\n",
       "      <th></th>\n",
       "      <th>sample</th>\n",
       "      <th>peakheight_1</th>\n",
       "      <th>Peakheight_2</th>\n",
       "      <th>Integral_1</th>\n",
       "      <th>Integral_2</th>\n",
       "    </tr>\n",
       "  </thead>\n",
       "  <tbody>\n",
       "    <tr>\n",
       "      <th>0</th>\n",
       "      <td>spectrum2.csv</td>\n",
       "      <td>25.0</td>\n",
       "      <td>5.0</td>\n",
       "      <td>40.0</td>\n",
       "      <td>0.0</td>\n",
       "    </tr>\n",
       "    <tr>\n",
       "      <th>1</th>\n",
       "      <td>spectrum1.csv</td>\n",
       "      <td>25.0</td>\n",
       "      <td>5.0</td>\n",
       "      <td>40.0</td>\n",
       "      <td>0.0</td>\n",
       "    </tr>\n",
       "  </tbody>\n",
       "</table>\n",
       "</div>"
      ],
      "text/plain": [
       "          sample  peakheight_1  Peakheight_2  Integral_1  Integral_2\n",
       "0  spectrum2.csv          25.0           5.0        40.0         0.0\n",
       "1  spectrum1.csv          25.0           5.0        40.0         0.0"
      ]
     },
     "execution_count": 25,
     "metadata": {},
     "output_type": "execute_result"
    }
   ],
   "source": [
    "df = merged_df\n",
    "\n",
    "df "
   ]
  },
  {
   "cell_type": "markdown",
   "metadata": {
    "id": "uFQo3ycuO-v6"
   },
   "source": [
    "# Data Exploration"
   ]
  },
  {
   "cell_type": "markdown",
   "metadata": {},
   "source": [
    "In Data Cleaning you are interested to check the distribution and shape of a variable with missing data."
   ]
  },
  {
   "cell_type": "code",
   "execution_count": 26,
   "metadata": {},
   "outputs": [
    {
     "data": {
      "text/plain": [
       "[]"
      ]
     },
     "execution_count": 26,
     "metadata": {},
     "output_type": "execute_result"
    }
   ],
   "source": [
    "vars_with_missing_data = df.columns[df.isna().sum() > 0].to_list()\n",
    "vars_with_missing_data"
   ]
  },
  {
   "cell_type": "code",
   "execution_count": 27,
   "metadata": {},
   "outputs": [
    {
     "name": "stdout",
     "output_type": "stream",
     "text": [
      "There are no variables with missing data\n"
     ]
    }
   ],
   "source": [
    "from ydata_profiling import ProfileReport\n",
    "if vars_with_missing_data:\n",
    "    profile = ProfileReport(merged_df=merged_df[vars_with_missing_data], minimal=True)\n",
    "    profile.to_notebook_iframe()\n",
    "else:\n",
    "    print(\"There are no variables with missing data\")"
   ]
  },
  {
   "cell_type": "markdown",
   "metadata": {},
   "source": [
    "# Correlation and PPS Analysis"
   ]
  },
  {
   "cell_type": "markdown",
   "metadata": {},
   "source": [
    "This code has been extracted from the Code Insitute PPS lesson."
   ]
  },
  {
   "cell_type": "code",
   "execution_count": 28,
   "metadata": {},
   "outputs": [],
   "source": [
    "import numpy as np\n",
    "import matplotlib.pyplot as plt\n",
    "import seaborn as sns\n",
    "import ppscore as pps\n",
    "\n",
    "\n",
    "def heatmap_corr(df, threshold, figsize=(20, 12), font_annot=8):\n",
    "    if len(df.columns) > 1:\n",
    "        mask = np.zeros_like(df, dtype=np.bool)\n",
    "        mask[np.triu_indices_from(mask)] = True\n",
    "        mask[abs(df) < threshold] = True\n",
    "\n",
    "        fig, axes = plt.subplots(figsize=figsize)\n",
    "        sns.heatmap(df, annot=True, xticklabels=True, yticklabels=True,\n",
    "                    mask=mask, cmap='viridis', annot_kws={\"size\": font_annot}, ax=axes,\n",
    "                    linewidth=0.5\n",
    "                    )\n",
    "        axes.set_yticklabels(df.columns, rotation=0)\n",
    "        plt.ylim(len(df.columns), 0)\n",
    "        plt.show()\n",
    "\n",
    "\n",
    "def heatmap_pps(df, threshold, figsize=(20, 12), font_annot=8):\n",
    "    if len(df.columns) > 1:\n",
    "        mask = np.zeros_like(df, dtype=np.bool)\n",
    "        mask[abs(df) < threshold] = True\n",
    "        fig, ax = plt.subplots(figsize=figsize)\n",
    "        ax = sns.heatmap(df, annot=True, xticklabels=True, yticklabels=True,\n",
    "                         mask=mask, cmap='rocket_r', annot_kws={\"size\": font_annot},\n",
    "                         linewidth=0.05, linecolor='grey')\n",
    "        plt.ylim(len(df.columns), 0)\n",
    "        plt.show()\n",
    "\n",
    "\n",
    "def CalculateCorrAndPPS(df):\n",
    "    df_corr_spearman = df.corr(method=\"spearman\")\n",
    "    df_corr_pearson = df.corr(method=\"pearson\")\n",
    "\n",
    "    pps_matrix_raw = pps.matrix(df)\n",
    "    pps_matrix = pps_matrix_raw.filter(['x', 'y', 'ppscore']).pivot(columns='x', index='y', values='ppscore')\n",
    "\n",
    "    pps_score_stats = pps_matrix_raw.query(\"ppscore < 1\").filter(['ppscore']).describe().T\n",
    "    print(\"PPS threshold - check PPS score IQR to decide threshold for heatmap \\n\")\n",
    "    print(pps_score_stats.round(3))\n",
    "\n",
    "    return df_corr_pearson, df_corr_spearman, pps_matrix\n",
    "\n",
    "\n",
    "def DisplayCorrAndPPS(df_corr_pearson, df_corr_spearman, pps_matrix, CorrThreshold, PPS_Threshold,\n",
    "                      figsize=(20, 12), font_annot=8):\n",
    "\n",
    "    print(\"\\n\")\n",
    "    print(\"* Analyse how the target variable for your ML models are correlated with other variables (features and target)\")\n",
    "    print(\"* Analyse multi-colinearity, that is, how the features are correlated among themselves\")\n",
    "\n",
    "    print(\"\\n\")\n",
    "    print(\"*** Heatmap: Spearman Correlation ***\")\n",
    "    print(\"It evaluates monotonic relationship \\n\")\n",
    "    heatmap_corr(df=df_corr_spearman, threshold=CorrThreshold, figsize=figsize, font_annot=font_annot)\n",
    "\n",
    "    print(\"\\n\")\n",
    "    print(\"*** Heatmap: Pearson Correlation ***\")\n",
    "    print(\"It evaluates the linear relationship between two continuous variables \\n\")\n",
    "    heatmap_corr(df=df_corr_pearson, threshold=CorrThreshold, figsize=figsize, font_annot=font_annot)\n",
    "\n",
    "    print(\"\\n\")\n",
    "    print(\"*** Heatmap: Power Predictive Score (PPS) ***\")\n",
    "    print(f\"PPS detects linear or non-linear relationships between two columns.\\n\"\n",
    "          f\"The score ranges from 0 (no predictive power) to 1 (perfect predictive power) \\n\")\n",
    "    heatmap_pps(df=pps_matrix, threshold=PPS_Threshold, figsize=figsize, font_annot=font_annot)"
   ]
  },
  {
   "cell_type": "code",
   "execution_count": 29,
   "metadata": {},
   "outputs": [
    {
     "name": "stdout",
     "output_type": "stream",
     "text": [
      "PPS threshold - check PPS score IQR to decide threshold for heatmap \n",
      "\n",
      "         count  mean  std  min  25%  50%  75%  max\n",
      "ppscore   20.0   0.0  0.0  0.0  0.0  0.0  0.0  0.0\n"
     ]
    }
   ],
   "source": [
    "df_corr_pearson, df_corr_spearman, pps_matrix = CalculateCorrAndPPS(df)"
   ]
  },
  {
   "cell_type": "code",
   "execution_count": 30,
   "metadata": {},
   "outputs": [
    {
     "name": "stdout",
     "output_type": "stream",
     "text": [
      "\n",
      "\n",
      "* Analyse how the target variable for your ML models are correlated with other variables (features and target)\n",
      "* Analyse multi-colinearity, that is, how the features are correlated among themselves\n",
      "\n",
      "\n",
      "*** Heatmap: Spearman Correlation ***\n",
      "It evaluates monotonic relationship \n",
      "\n"
     ]
    },
    {
     "name": "stderr",
     "output_type": "stream",
     "text": [
      "/home/codeany/.local/lib/python3.8/site-packages/seaborn/matrix.py:204: RuntimeWarning: All-NaN slice encountered\n",
      "  vmin = np.nanmin(calc_data)\n",
      "/home/codeany/.local/lib/python3.8/site-packages/seaborn/matrix.py:209: RuntimeWarning: All-NaN slice encountered\n",
      "  vmax = np.nanmax(calc_data)\n"
     ]
    },
    {
     "data": {
      "image/png": "[encoded data removed]",
      "text/plain": [
       "<Figure size 1200x1000 with 2 Axes>"
      ]
     },
     "metadata": {},
     "output_type": "display_data"
    },
    {
     "name": "stdout",
     "output_type": "stream",
     "text": [
      "\n",
      "\n",
      "*** Heatmap: Pearson Correlation ***\n",
      "It evaluates the linear relationship between two continuous variables \n",
      "\n"
     ]
    },
    {
     "data": {
      "image/png": "[encoded data removed]",
      "text/plain": [
       "<Figure size 1200x1000 with 2 Axes>"
      ]
     },
     "metadata": {},
     "output_type": "display_data"
    },
    {
     "name": "stdout",
     "output_type": "stream",
     "text": [
      "\n",
      "\n",
      "*** Heatmap: Power Predictive Score (PPS) ***\n",
      "PPS detects linear or non-linear relationships between two columns.\n",
      "The score ranges from 0 (no predictive power) to 1 (perfect predictive power) \n",
      "\n"
     ]
    },
    {
     "data": {
      "image/png": "[encoded data removed]",
      "text/plain": [
       "<Figure size 1200x1000 with 2 Axes>"
      ]
     },
     "metadata": {},
     "output_type": "display_data"
    }
   ],
   "source": [
    "DisplayCorrAndPPS(df_corr_pearson = df_corr_pearson,\n",
    "                  df_corr_spearman = df_corr_spearman, \n",
    "                  pps_matrix = pps_matrix,\n",
    "                  CorrThreshold = 0.4, PPS_Threshold =0.2,\n",
    "                  figsize=(12,10), font_annot=10)"
   ]
  },
  {
   "cell_type": "markdown",
   "metadata": {},
   "source": [
    "# Data Cleaning\n",
    "\n",
    "## Assessing Missing Data Levels\n",
    "\n",
    "- Custom function to display missing data levels in a DataFrame, it shows the absolute levels, relative levels and data type.=10)"
   ]
  },
  {
   "cell_type": "code",
   "execution_count": 31,
   "metadata": {},
   "outputs": [],
   "source": [
    "def EvaluateMissingData(df):\n",
    "    missing_data_absolute = df.isnull().sum()\n",
    "    missing_data_percentage = round(missing_data_absolute/len(df)*100, 2)\n",
    "    df_missing_data = (pd.DataFrame(\n",
    "                            data={\"RowsWithMissingData\": missing_data_absolute,\n",
    "                                   \"PercentageOfDataset\": missing_data_percentage,\n",
    "                                   \"DataType\": df.dtypes}\n",
    "                                    )\n",
    "                          .sort_values(by=['PercentageOfDataset'], ascending=False)\n",
    "                          .query(\"PercentageOfDataset > 0\")\n",
    "                          )\n",
    "\n",
    "    return df_missing_data"
   ]
  },
  {
   "cell_type": "code",
   "execution_count": 32,
   "metadata": {},
   "outputs": [
    {
     "data": {
      "text/html": [
       "<div>\n",
       "<style scoped>\n",
       "    .dataframe tbody tr th:only-of-type {\n",
       "        vertical-align: middle;\n",
       "    }\n",
       "\n",
       "    .dataframe tbody tr th {\n",
       "        vertical-align: top;\n",
       "    }\n",
       "\n",
       "    .dataframe thead th {\n",
       "        text-align: right;\n",
       "    }\n",
       "</style>\n",
       "<table border=\"1\" class=\"dataframe\">\n",
       "  <thead>\n",
       "    <tr style=\"text-align: right;\">\n",
       "      <th></th>\n",
       "      <th>RowsWithMissingData</th>\n",
       "      <th>PercentageOfDataset</th>\n",
       "      <th>DataType</th>\n",
       "    </tr>\n",
       "  </thead>\n",
       "  <tbody>\n",
       "  </tbody>\n",
       "</table>\n",
       "</div>"
      ],
      "text/plain": [
       "Empty DataFrame\n",
       "Columns: [RowsWithMissingData, PercentageOfDataset, DataType]\n",
       "Index: []"
      ]
     },
     "execution_count": 32,
     "metadata": {},
     "output_type": "execute_result"
    }
   ],
   "source": [
    "EvaluateMissingData(df)"
   ]
  },
  {
   "cell_type": "markdown",
   "metadata": {},
   "source": [
    "- **Enclosed Porch and Wood Deck**: These features will be removed due to a very high percentage of missing data, as they would not provide meaningful information.\r",
    "n\r\n",
    "\r\n",
    "- Missing data in other features will be imputed using appropriate methods to ensure data completeness and integrity.\r\n",
    "\r\n",
    "The data cleaning process aims to improve data quality by addressing missing values, optimizing the dataset, and preparing it for further analysis and modeling."
   ]
  },
  {
   "cell_type": "markdown",
   "metadata": {},
   "source": [
    "## Missing data"
   ]
  },
  {
   "cell_type": "code",
   "execution_count": 33,
   "metadata": {},
   "outputs": [],
   "source": [
    "import seaborn as sns\n",
    "sns.set(style=\"whitegrid\")\n",
    "import numpy as np\n",
    "import pandas as pd\n",
    "import matplotlib.pyplot as plt\n",
    "\n",
    "\n",
    "def DataCleaningEffect(df_original,df_cleaned,variables_applied_with_method):\n",
    "\n",
    "  flag_count=1 # Indicate plot number\n",
    "  \n",
    "  # distinguish between numerical and categorical variables\n",
    "  categorical_variables = df_original.select_dtypes(exclude=['number']).columns \n",
    "\n",
    "  # scan over variables, \n",
    "    # first on variables that you applied the method\n",
    "    # if the variable is a numerical plot, a histogram if categorical plot a barplot\n",
    "  for set_of_variables in [variables_applied_with_method]:\n",
    "    print(\"\\n=====================================================================================\")\n",
    "    print(f\"* Distribution Effect Analysis After Data Cleaning Method in the following variables:\")\n",
    "    print(f\"{set_of_variables} \\n\\n\")\n",
    "  \n",
    "\n",
    "    for var in set_of_variables:\n",
    "      if var in categorical_variables:  # it is categorical variable: barplot\n",
    "        \n",
    "        df1 = pd.DataFrame({\"Type\":\"Original\",\"Value\":df_original[var]})\n",
    "        df2 = pd.DataFrame({\"Type\":\"Cleaned\",\"Value\":df_cleaned[var]})\n",
    "        dfAux = pd.concat([df1, df2], axis=0)\n",
    "        fig , axes = plt.subplots(figsize=(15, 5))\n",
    "        sns.countplot(hue='Type', data=dfAux, x=\"Value\",palette=['#432371',\"#FAAE7B\"])\n",
    "        axes.set(title=f\"Distribution Plot {flag_count}: {var}\")\n",
    "        plt.xticks(rotation=90)\n",
    "        plt.legend() \n",
    "\n",
    "      else: # it is numerical variable: histogram\n",
    "\n",
    "        fig , axes = plt.subplots(figsize=(10, 5))\n",
    "        sns.histplot(data=df_original, x=var, color=\"#432371\", label='Original', kde=True,element=\"step\", ax=axes)\n",
    "        sns.histplot(data=df_cleaned, x=var, color=\"#FAAE7B\", label='Cleaned', kde=True,element=\"step\", ax=axes)\n",
    "        axes.set(title=f\"Distribution Plot {flag_count}: {var}\")\n",
    "        plt.legend() \n",
    "\n",
    "      plt.show()\n",
    "      flag_count+= 1"
   ]
  },
  {
   "cell_type": "markdown",
   "metadata": {},
   "source": [
    "### Numerical Values\n",
    "\n",
    "to inplace the missing values for the missing values it was chosen to impute uisng meanmedianimputer(). Since the median isn't effected by outliers."
   ]
  },
  {
   "cell_type": "code",
   "execution_count": 34,
   "metadata": {},
   "outputs": [
    {
     "ename": "KeyError",
     "evalue": "\"None of [Index(['LotFrontage', 'BedroomAbvGr', '2ndFlrSF', 'GarageYrBlt', 'MasVnrArea'], dtype='object')] are in the [columns]\"",
     "output_type": "error",
     "traceback": [
      "\u001b[0;31m---------------------------------------------------------------------------\u001b[0m",
      "\u001b[0;31mKeyError\u001b[0m                                  Traceback (most recent call last)",
      "Cell \u001b[0;32mIn[34], line 7\u001b[0m\n\u001b[1;32m      3\u001b[0m variables_method \u001b[38;5;241m=\u001b[39m [\u001b[38;5;124m'\u001b[39m\u001b[38;5;124mLotFrontage\u001b[39m\u001b[38;5;124m'\u001b[39m, \u001b[38;5;124m'\u001b[39m\u001b[38;5;124mBedroomAbvGr\u001b[39m\u001b[38;5;124m'\u001b[39m, \u001b[38;5;124m'\u001b[39m\u001b[38;5;124m2ndFlrSF\u001b[39m\u001b[38;5;124m'\u001b[39m, \u001b[38;5;124m'\u001b[39m\u001b[38;5;124mGarageYrBlt\u001b[39m\u001b[38;5;124m'\u001b[39m, \u001b[38;5;124m'\u001b[39m\u001b[38;5;124mMasVnrArea\u001b[39m\u001b[38;5;124m'\u001b[39m]\n\u001b[1;32m      5\u001b[0m imputer \u001b[38;5;241m=\u001b[39m MeanMedianImputer(imputation_method\u001b[38;5;241m=\u001b[39m\u001b[38;5;124m'\u001b[39m\u001b[38;5;124mmedian\u001b[39m\u001b[38;5;124m'\u001b[39m, variables\u001b[38;5;241m=\u001b[39mvariables_method)\n\u001b[0;32m----> 7\u001b[0m df_method \u001b[38;5;241m=\u001b[39m \u001b[43mimputer\u001b[49m\u001b[38;5;241;43m.\u001b[39;49m\u001b[43mfit_transform\u001b[49m\u001b[43m(\u001b[49m\u001b[43mdf\u001b[49m\u001b[43m)\u001b[49m\n\u001b[1;32m      9\u001b[0m DataCleaningEffect(df_original\u001b[38;5;241m=\u001b[39mdf,\n\u001b[1;32m     10\u001b[0m                   df_cleaned\u001b[38;5;241m=\u001b[39mdf_method,\n\u001b[1;32m     11\u001b[0m                   variables_applied_with_method\u001b[38;5;241m=\u001b[39mvariables_method)\n",
      "File \u001b[0;32m~/.local/lib/python3.8/site-packages/sklearn/base.py:699\u001b[0m, in \u001b[0;36mTransformerMixin.fit_transform\u001b[0;34m(self, X, y, **fit_params)\u001b[0m\n\u001b[1;32m    695\u001b[0m \u001b[38;5;66;03m# non-optimized default implementation; override when a better\u001b[39;00m\n\u001b[1;32m    696\u001b[0m \u001b[38;5;66;03m# method is possible for a given clustering algorithm\u001b[39;00m\n\u001b[1;32m    697\u001b[0m \u001b[38;5;28;01mif\u001b[39;00m y \u001b[38;5;129;01mis\u001b[39;00m \u001b[38;5;28;01mNone\u001b[39;00m:\n\u001b[1;32m    698\u001b[0m     \u001b[38;5;66;03m# fit method of arity 1 (unsupervised transformation)\u001b[39;00m\n\u001b[0;32m--> 699\u001b[0m     \u001b[38;5;28;01mreturn\u001b[39;00m \u001b[38;5;28;43mself\u001b[39;49m\u001b[38;5;241;43m.\u001b[39;49m\u001b[43mfit\u001b[49m\u001b[43m(\u001b[49m\u001b[43mX\u001b[49m\u001b[43m,\u001b[49m\u001b[43m \u001b[49m\u001b[38;5;241;43m*\u001b[39;49m\u001b[38;5;241;43m*\u001b[39;49m\u001b[43mfit_params\u001b[49m\u001b[43m)\u001b[49m\u001b[38;5;241m.\u001b[39mtransform(X)\n\u001b[1;32m    700\u001b[0m \u001b[38;5;28;01melse\u001b[39;00m:\n\u001b[1;32m    701\u001b[0m     \u001b[38;5;66;03m# fit method of arity 2 (supervised transformation)\u001b[39;00m\n\u001b[1;32m    702\u001b[0m     \u001b[38;5;28;01mreturn\u001b[39;00m \u001b[38;5;28mself\u001b[39m\u001b[38;5;241m.\u001b[39mfit(X, y, \u001b[38;5;241m*\u001b[39m\u001b[38;5;241m*\u001b[39mfit_params)\u001b[38;5;241m.\u001b[39mtransform(X)\n",
      "File \u001b[0;32m~/.local/lib/python3.8/site-packages/feature_engine/imputation/mean_median.py:96\u001b[0m, in \u001b[0;36mMeanMedianImputer.fit\u001b[0;34m(self, X, y)\u001b[0m\n\u001b[1;32m     93\u001b[0m X \u001b[38;5;241m=\u001b[39m _is_dataframe(X)\n\u001b[1;32m     95\u001b[0m \u001b[38;5;66;03m# find or check for numerical variables\u001b[39;00m\n\u001b[0;32m---> 96\u001b[0m \u001b[38;5;28mself\u001b[39m\u001b[38;5;241m.\u001b[39mvariables \u001b[38;5;241m=\u001b[39m \u001b[43m_find_or_check_numerical_variables\u001b[49m\u001b[43m(\u001b[49m\u001b[43mX\u001b[49m\u001b[43m,\u001b[49m\u001b[43m \u001b[49m\u001b[38;5;28;43mself\u001b[39;49m\u001b[38;5;241;43m.\u001b[39;49m\u001b[43mvariables\u001b[49m\u001b[43m)\u001b[49m\n\u001b[1;32m     98\u001b[0m \u001b[38;5;66;03m# find imputation parameters: mean or median\u001b[39;00m\n\u001b[1;32m     99\u001b[0m \u001b[38;5;28;01mif\u001b[39;00m \u001b[38;5;28mself\u001b[39m\u001b[38;5;241m.\u001b[39mimputation_method \u001b[38;5;241m==\u001b[39m \u001b[38;5;124m\"\u001b[39m\u001b[38;5;124mmean\u001b[39m\u001b[38;5;124m\"\u001b[39m:\n",
      "File \u001b[0;32m~/.local/lib/python3.8/site-packages/feature_engine/variable_manipulation.py:76\u001b[0m, in \u001b[0;36m_find_or_check_numerical_variables\u001b[0;34m(X, variables)\u001b[0m\n\u001b[1;32m     69\u001b[0m         \u001b[38;5;28;01mraise\u001b[39;00m \u001b[38;5;167;01mValueError\u001b[39;00m(\n\u001b[1;32m     70\u001b[0m             \u001b[38;5;124m\"\u001b[39m\u001b[38;5;124mNo numerical variables in this dataframe. Please check variable\u001b[39m\u001b[38;5;124m\"\u001b[39m\n\u001b[1;32m     71\u001b[0m             \u001b[38;5;124m\"\u001b[39m\u001b[38;5;124mformat with pandas dtypes\u001b[39m\u001b[38;5;124m\"\u001b[39m\n\u001b[1;32m     72\u001b[0m         )\n\u001b[1;32m     74\u001b[0m \u001b[38;5;28;01melse\u001b[39;00m:\n\u001b[1;32m     75\u001b[0m     \u001b[38;5;66;03m# check that user entered variables are of type numerical\u001b[39;00m\n\u001b[0;32m---> 76\u001b[0m     \u001b[38;5;28;01mif\u001b[39;00m \u001b[38;5;28many\u001b[39m(\u001b[43mX\u001b[49m\u001b[43m[\u001b[49m\u001b[43mvariables\u001b[49m\u001b[43m]\u001b[49m\u001b[38;5;241m.\u001b[39mselect_dtypes(exclude\u001b[38;5;241m=\u001b[39m\u001b[38;5;124m\"\u001b[39m\u001b[38;5;124mnumber\u001b[39m\u001b[38;5;124m\"\u001b[39m)\u001b[38;5;241m.\u001b[39mcolumns):\n\u001b[1;32m     77\u001b[0m         \u001b[38;5;28;01mraise\u001b[39;00m \u001b[38;5;167;01mTypeError\u001b[39;00m(\n\u001b[1;32m     78\u001b[0m             \u001b[38;5;124m\"\u001b[39m\u001b[38;5;124mSome of the variables are not numerical. Please cast them as \u001b[39m\u001b[38;5;124m\"\u001b[39m\n\u001b[1;32m     79\u001b[0m             \u001b[38;5;124m\"\u001b[39m\u001b[38;5;124mnumerical before using this transformer\u001b[39m\u001b[38;5;124m\"\u001b[39m\n\u001b[1;32m     80\u001b[0m         )\n\u001b[1;32m     82\u001b[0m \u001b[38;5;28;01mreturn\u001b[39;00m variables\n",
      "File \u001b[0;32m~/.local/lib/python3.8/site-packages/pandas/core/frame.py:3511\u001b[0m, in \u001b[0;36mDataFrame.__getitem__\u001b[0;34m(self, key)\u001b[0m\n\u001b[1;32m   3509\u001b[0m     \u001b[38;5;28;01mif\u001b[39;00m is_iterator(key):\n\u001b[1;32m   3510\u001b[0m         key \u001b[38;5;241m=\u001b[39m \u001b[38;5;28mlist\u001b[39m(key)\n\u001b[0;32m-> 3511\u001b[0m     indexer \u001b[38;5;241m=\u001b[39m \u001b[38;5;28;43mself\u001b[39;49m\u001b[38;5;241;43m.\u001b[39;49m\u001b[43mcolumns\u001b[49m\u001b[38;5;241;43m.\u001b[39;49m\u001b[43m_get_indexer_strict\u001b[49m\u001b[43m(\u001b[49m\u001b[43mkey\u001b[49m\u001b[43m,\u001b[49m\u001b[43m \u001b[49m\u001b[38;5;124;43m\"\u001b[39;49m\u001b[38;5;124;43mcolumns\u001b[39;49m\u001b[38;5;124;43m\"\u001b[39;49m\u001b[43m)\u001b[49m[\u001b[38;5;241m1\u001b[39m]\n\u001b[1;32m   3513\u001b[0m \u001b[38;5;66;03m# take() does not accept boolean indexers\u001b[39;00m\n\u001b[1;32m   3514\u001b[0m \u001b[38;5;28;01mif\u001b[39;00m \u001b[38;5;28mgetattr\u001b[39m(indexer, \u001b[38;5;124m\"\u001b[39m\u001b[38;5;124mdtype\u001b[39m\u001b[38;5;124m\"\u001b[39m, \u001b[38;5;28;01mNone\u001b[39;00m) \u001b[38;5;241m==\u001b[39m \u001b[38;5;28mbool\u001b[39m:\n",
      "File \u001b[0;32m~/.local/lib/python3.8/site-packages/pandas/core/indexes/base.py:5782\u001b[0m, in \u001b[0;36mIndex._get_indexer_strict\u001b[0;34m(self, key, axis_name)\u001b[0m\n\u001b[1;32m   5779\u001b[0m \u001b[38;5;28;01melse\u001b[39;00m:\n\u001b[1;32m   5780\u001b[0m     keyarr, indexer, new_indexer \u001b[38;5;241m=\u001b[39m \u001b[38;5;28mself\u001b[39m\u001b[38;5;241m.\u001b[39m_reindex_non_unique(keyarr)\n\u001b[0;32m-> 5782\u001b[0m \u001b[38;5;28;43mself\u001b[39;49m\u001b[38;5;241;43m.\u001b[39;49m\u001b[43m_raise_if_missing\u001b[49m\u001b[43m(\u001b[49m\u001b[43mkeyarr\u001b[49m\u001b[43m,\u001b[49m\u001b[43m \u001b[49m\u001b[43mindexer\u001b[49m\u001b[43m,\u001b[49m\u001b[43m \u001b[49m\u001b[43maxis_name\u001b[49m\u001b[43m)\u001b[49m\n\u001b[1;32m   5784\u001b[0m keyarr \u001b[38;5;241m=\u001b[39m \u001b[38;5;28mself\u001b[39m\u001b[38;5;241m.\u001b[39mtake(indexer)\n\u001b[1;32m   5785\u001b[0m \u001b[38;5;28;01mif\u001b[39;00m \u001b[38;5;28misinstance\u001b[39m(key, Index):\n\u001b[1;32m   5786\u001b[0m     \u001b[38;5;66;03m# GH 42790 - Preserve name from an Index\u001b[39;00m\n",
      "File \u001b[0;32m~/.local/lib/python3.8/site-packages/pandas/core/indexes/base.py:5842\u001b[0m, in \u001b[0;36mIndex._raise_if_missing\u001b[0;34m(self, key, indexer, axis_name)\u001b[0m\n\u001b[1;32m   5840\u001b[0m     \u001b[38;5;28;01mif\u001b[39;00m use_interval_msg:\n\u001b[1;32m   5841\u001b[0m         key \u001b[38;5;241m=\u001b[39m \u001b[38;5;28mlist\u001b[39m(key)\n\u001b[0;32m-> 5842\u001b[0m     \u001b[38;5;28;01mraise\u001b[39;00m \u001b[38;5;167;01mKeyError\u001b[39;00m(\u001b[38;5;124mf\u001b[39m\u001b[38;5;124m\"\u001b[39m\u001b[38;5;124mNone of [\u001b[39m\u001b[38;5;132;01m{\u001b[39;00mkey\u001b[38;5;132;01m}\u001b[39;00m\u001b[38;5;124m] are in the [\u001b[39m\u001b[38;5;132;01m{\u001b[39;00maxis_name\u001b[38;5;132;01m}\u001b[39;00m\u001b[38;5;124m]\u001b[39m\u001b[38;5;124m\"\u001b[39m)\n\u001b[1;32m   5844\u001b[0m not_found \u001b[38;5;241m=\u001b[39m \u001b[38;5;28mlist\u001b[39m(ensure_index(key)[missing_mask\u001b[38;5;241m.\u001b[39mnonzero()[\u001b[38;5;241m0\u001b[39m]]\u001b[38;5;241m.\u001b[39munique())\n\u001b[1;32m   5845\u001b[0m \u001b[38;5;28;01mraise\u001b[39;00m \u001b[38;5;167;01mKeyError\u001b[39;00m(\u001b[38;5;124mf\u001b[39m\u001b[38;5;124m\"\u001b[39m\u001b[38;5;132;01m{\u001b[39;00mnot_found\u001b[38;5;132;01m}\u001b[39;00m\u001b[38;5;124m not in index\u001b[39m\u001b[38;5;124m\"\u001b[39m)\n",
      "\u001b[0;31mKeyError\u001b[0m: \"None of [Index(['LotFrontage', 'BedroomAbvGr', '2ndFlrSF', 'GarageYrBlt', 'MasVnrArea'], dtype='object')] are in the [columns]\""
     ]
    }
   ],
   "source": [
    "# if nessacary \n",
    "from feature_engine.imputation import MeanMedianImputer\n",
    "\n",
    "variables_method = ['LotFrontage', 'BedroomAbvGr', '2ndFlrSF', 'GarageYrBlt', 'MasVnrArea']\n",
    "\n",
    "imputer = MeanMedianImputer(imputation_method='median', variables=variables_method)\n",
    "\n",
    "df_method = imputer.fit_transform(df)\n",
    "\n",
    "DataCleaningEffect(df_original=df,\n",
    "                  df_cleaned=df_method,\n",
    "                  variables_applied_with_method=variables_method)"
   ]
  },
  {
   "cell_type": "markdown",
   "metadata": {},
   "source": [
    "## Categorical values"
   ]
  },
  {
   "cell_type": "markdown",
   "metadata": {},
   "source": [
    "For categorical features in the dataset, missing values will be addressed using the \"Frequent\" method. This method replaces missing categorical values with the most frequent category within each respective feature.\r\n",
    "\r\n",
    "Imputing missing values in categorical variables ensures data completeness and prepares the dataset for further analysis and modeling."
   ]
  },
  {
   "cell_type": "code",
   "execution_count": null,
   "metadata": {},
   "outputs": [],
   "source": [
    "# if nessacary \n",
    "from feature_engine.imputation import CategoricalImputer\n",
    "\n",
    "variables = ['GarageFinish', 'BsmtFinType1']\n",
    "\n",
    "imputer = CategoricalImputer(imputation_method='frequent', variables=variables)\n",
    "\n",
    "df_method = imputer.fit_transform(df)\n",
    "\n",
    "DataCleaningEffect(df_original=df,\n",
    "                  df_cleaned=df_method,\n",
    "                  variables_applied_with_method=variables_method)"
   ]
  },
  {
   "cell_type": "markdown",
   "metadata": {},
   "source": [
    "## Drop Variables"
   ]
  },
  {
   "cell_type": "markdown",
   "metadata": {},
   "source": [
    "- dropping the **EnclosedPorch** & **WoodDeckSF features"
   ]
  },
  {
   "cell_type": "code",
   "execution_count": null,
   "metadata": {},
   "outputs": [],
   "source": [
    "# if nessacary \n",
    "from feature_engine.selection import DropFeatures\n",
    "\n",
    "variables = ['EnclosedPorch', 'WoodDeckSF']\n",
    "\n",
    "imputer = DropFeatures(features_to_drop=variables)\n",
    "imputer.fit_transform(df)\n"
   ]
  },
  {
   "cell_type": "markdown",
   "metadata": {},
   "source": [
    "## Split Train and Test Set"
   ]
  },
  {
   "cell_type": "markdown",
   "metadata": {},
   "source": [
    "- The set will be split in train and test set. 20 procent will be used to used to test the model"
   ]
  },
  {
   "cell_type": "code",
   "execution_count": null,
   "metadata": {},
   "outputs": [],
   "source": [
    "from sklearn.model_selection import train_test_split\n",
    "TrainSet, TestSet, _, __ = train_test_split(\n",
    "                                        df,\n",
    "                                        df['SalePrice'],\n",
    "                                        test_size=0.2,\n",
    "                                        random_state=0)\n",
    "\n",
    "print(f\"TrainSet shape: {TrainSet.shape} \\nTestSet shape: {TestSet.shape}\")"
   ]
  },
  {
   "cell_type": "markdown",
   "metadata": {},
   "source": [
    "- DropFeatures"
   ]
  },
  {
   "cell_type": "code",
   "execution_count": null,
   "metadata": {},
   "outputs": [],
   "source": [
    "variables_method = ['EnclosedPorch', 'WoodDeckSF']\n",
    "imputer = DropFeatures(features_to_drop=variables_method)\n",
    "imputer.fit(TrainSet)\n",
    "\n",
    "TrainSet, TestSet = imputer.transform(TrainSet) , imputer.transform(TestSet)"
   ]
  },
  {
   "cell_type": "markdown",
   "metadata": {},
   "source": [
    "- MeanMedianImputer"
   ]
  },
  {
   "cell_type": "code",
   "execution_count": null,
   "metadata": {},
   "outputs": [],
   "source": [
    "variables_method = ['LotFrontage', 'BedroomAbvGr', '2ndFlrSF', 'GarageYrBlt', 'MasVnrArea']\n",
    "imputer = MeanMedianImputer(imputation_method='median', variables=variables_method)\n",
    "\n",
    "imputer.fit_transform(TrainSet)\n",
    "\n",
    "TrainSet, TestSet = imputer.transform(TrainSet) , imputer.transform(TestSet)"
   ]
  },
  {
   "cell_type": "markdown",
   "metadata": {},
   "source": [
    "- CategoricalImputer"
   ]
  },
  {
   "cell_type": "code",
   "execution_count": null,
   "metadata": {},
   "outputs": [],
   "source": [
    "variables_method = ['GarageFinish', 'BsmtFinType1']\n",
    "imputer = CategoricalImputer(imputation_method='missing', fill_value='Unf', variables=variables_method)\n",
    "\n",
    "imputer.fit_transform(TrainSet)\n",
    "\n",
    "TrainSet, TestSet = imputer.transform(TrainSet) , imputer.transform(TestSet)"
   ]
  },
  {
   "cell_type": "markdown",
   "metadata": {},
   "source": [
    "- check for missing data"
   ]
  },
  {
   "cell_type": "code",
   "execution_count": null,
   "metadata": {},
   "outputs": [],
   "source": [
    "df_missing_data = EvaluateMissingData(TrainSet)\n",
    "print(f\"* There are {df_missing_data.shape[0]} variables with missing data \\n\")\n",
    "df_missing_data"
   ]
  },
  {
   "cell_type": "markdown",
   "metadata": {},
   "source": [
    "---"
   ]
  },
  {
   "cell_type": "markdown",
   "metadata": {
    "id": "ltNetd085qHf"
   },
   "source": [
    "# Push files to Repo"
   ]
  },
  {
   "cell_type": "markdown",
   "metadata": {},
   "source": [
    "* If you do not need to push files to Repo, you may replace this section with \"Conclusions and Next Steps\" and state your conclusions and next steps."
   ]
  },
  {
   "cell_type": "code",
   "execution_count": null,
   "metadata": {
    "id": "aKlnIozA4eQO",
    "outputId": "fd09bc1f-adb1-4511-f6ce-492a6af570c0"
   },
   "outputs": [],
   "source": [
    "import os\n",
    "try:\n",
    "  os.makedirs(name='outputs/datasets/cleaned') # create outputs/datasets/collection folder\n",
    "except Exception as e:\n",
    "  print(e)\n",
    "\n"
   ]
  },
  {
   "cell_type": "code",
   "execution_count": null,
   "metadata": {},
   "outputs": [],
   "source": [
    "TrainSet.to_csv(\"outputs/datasets/cleaned/TrainSetCleaned.csv\", index=False)"
   ]
  },
  {
   "cell_type": "code",
   "execution_count": null,
   "metadata": {},
   "outputs": [],
   "source": [
    "TestSet.to_csv(\"outputs/datasets/cleaned/TestSetCleaned.csv\", index=False)"
   ]
  }
 ],
 "metadata": {
  "accelerator": "GPU",
  "colab": {
   "name": "Data Practitioner Jupyter Notebook.ipynb",
   "provenance": [],
   "toc_visible": true
  },
  "interpreter": {
   "hash": "8b8334dab9339717f727a1deaf837b322d7a41c20d15cc86be99a8e69ceec8ce"
  },
  "kernelspec": {
   "display_name": "Python 3 (ipykernel)",
   "language": "python",
   "name": "python3"
  },
  "language_info": {
   "codemirror_mode": {
    "name": "ipython",
    "version": 3
   },
   "file_extension": ".py",
   "mimetype": "text/x-python",
   "name": "python",
   "nbconvert_exporter": "python",
   "pygments_lexer": "ipython3",
   "version": "3.8.12"
  }
 },
 "nbformat": 4,
 "nbformat_minor": 4
}
